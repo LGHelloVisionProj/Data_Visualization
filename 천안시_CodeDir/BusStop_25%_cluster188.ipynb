{
 "cells": [
  {
   "cell_type": "code",
   "execution_count": 2,
   "id": "71ab3880",
   "metadata": {},
   "outputs": [],
   "source": [
    "# 총 버스 정류장 중 score 상위 25% 필터링 후\n",
    "# 188개 클러스터로 클러스터링\n",
    "\n",
    "from sklearn.cluster import KMeans\n",
    "import pandas as pd\n",
    "from sklearn.metrics import silhouette_samples, silhouette_score\n",
    "import warnings\n",
    "warnings.filterwarnings('ignore')\n",
    "\n",
    "df=pd.read_csv('../Data/scoring_result_0823_1341.csv')\n",
    "#print(df.head())\n",
    "row=len(df)\n",
    "\n",
    "#score 상위 25% 추출\n",
    "df_sub=df.sort_values(by='score', ascending=False).head(round(row*0.25))\n",
    "df_sub.to_csv('../Data/scoring_result_0823_1341_top25p.csv')\n",
    "\n",
    "pos_sub = df_sub[['위도','경도']]\n",
    "\n",
    "#상위 25%에서 188개 clustering\n",
    "k_num= 188\n",
    "kmeans = KMeans(n_clusters=k_num, random_state=42, n_init=10)\n",
    "kmeans.fit(pos_sub)\n",
    "pos_sub['labels']= kmeans.labels_\n",
    "\n",
    "#클러스터링 한 후 중심점 위치 추출\n",
    "centers = kmeans.cluster_centers_\n",
    "dfcenters=pd.DataFrame(centers)\n",
    "\n",
    "#태블로에서 다른 데이터와 연결 위해 도시명 열 추가\n",
    "dfcenters['도시명']='천안시' \n",
    "\n",
    "#파일로 출력\n",
    "dfcenters.to_csv('../Data/scoring_result_0823_1341_top25p_cluster188.csv')"
   ]
  },
  {
   "cell_type": "markdown",
   "id": "8b56c525",
   "metadata": {},
   "source": [
    "### 실루엣 계수"
   ]
  },
  {
   "cell_type": "code",
   "execution_count": 4,
   "id": "da77b4fd",
   "metadata": {},
   "outputs": [
    {
     "name": "stdout",
     "output_type": "stream",
     "text": [
      "0.9922858584065731\n"
     ]
    }
   ],
   "source": [
    "#실루엣 계수 계산\n",
    "score_samples = silhouette_samples(pos_sub, pos_sub.labels)\n",
    "pos_sub['silhoutte_coeff'] = score_samples\n",
    "\n",
    "#실루엣 평균 값 계산 => 0.9923154955304742\n",
    "average_score = silhouette_score(pos_sub, pos_sub.labels)\n",
    "#print(average_score)\n",
    "print(pos_sub.silhoutte_coeff.mean())"
   ]
  },
  {
   "cell_type": "markdown",
   "id": "b2baa5c6",
   "metadata": {},
   "source": [
    "### 최적 클러스터 수 구하기 위해 inertia 구하기"
   ]
  },
  {
   "cell_type": "code",
   "execution_count": 5,
   "id": "086a210a",
   "metadata": {
    "scrolled": false
   },
   "outputs": [],
   "source": [
    "kn = range(1,400)\n",
    "inertias = []\n",
    "\n",
    "for k in kn:\n",
    "    model = KMeans(n_clusters=k, random_state=42, n_init=10)\n",
    "    model.fit(pos_sub)\n",
    "    inertias.append(model.inertia_)"
   ]
  },
  {
   "cell_type": "markdown",
   "id": "3d8c2e97",
   "metadata": {},
   "source": [
    "### elbow plot"
   ]
  },
  {
   "cell_type": "code",
   "execution_count": 6,
   "id": "9862882e",
   "metadata": {},
   "outputs": [
    {
     "data": {
      "image/png": "[encoded data removed]",
      "text/plain": [
       "<Figure size 1000x400 with 1 Axes>"
      ]
     },
     "metadata": {},
     "output_type": "display_data"
    },
    {
     "name": "stdout",
     "output_type": "stream",
     "text": [
      "10\n"
     ]
    }
   ],
   "source": [
    "from matplotlib import pyplot as plt    \n",
    "plt.figure(figsize=(10, 4))\n",
    "\n",
    "plt.plot(kn, inertias, '-o')\n",
    "plt.xlabel('number of clusters, k')\n",
    "plt.ylabel('inertia')\n",
    "\n",
    "plt.xticks([0,20,40,60,80,100,400])\n",
    "plt.show()\n",
    "\n",
    "#최적 클러스터 수 확인 -> 10개\n",
    "from kneed import KneeLocator\n",
    "\n",
    "kl = KneeLocator(range(1,len(inertias)+1), inertias, curve='convex', direction='decreasing')\n",
    "optimal_k = kl.elbow\n",
    "print(optimal_k)"
   ]
  }
 ],
 "metadata": {
  "kernelspec": {
   "display_name": "Python 3 (ipykernel)",
   "language": "python",
   "name": "python3"
  },
  "language_info": {
   "codemirror_mode": {
    "name": "ipython",
    "version": 3
   },
   "file_extension": ".py",
   "mimetype": "text/x-python",
   "name": "python",
   "nbconvert_exporter": "python",
   "pygments_lexer": "ipython3",
   "version": "3.10.9"
  }
 },
 "nbformat": 4,
 "nbformat_minor": 5
}
