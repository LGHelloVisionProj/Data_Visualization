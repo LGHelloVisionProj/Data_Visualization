{
 "cells": [
  {
   "cell_type": "markdown",
   "id": "4fdd19ce",
   "metadata": {},
   "source": [
    "### 데이터 import"
   ]
  },
  {
   "cell_type": "code",
   "execution_count": 19,
   "id": "931d75f7",
   "metadata": {},
   "outputs": [],
   "source": [
    "from sklearn.cluster import KMeans\n",
    "import pandas as pd\n",
    "from sklearn.metrics import silhouette_samples, silhouette_score\n",
    "import warnings\n",
    "warnings.filterwarnings('ignore')\n",
    "\n",
    "df=pd.read_csv('../Data/scoring_result_0823_1341.csv')\n",
    "\n",
    "#print(df.head())\n",
    "pos = df[['위도','경도']]"
   ]
  },
  {
   "cell_type": "markdown",
   "id": "e7a4aad5",
   "metadata": {},
   "source": [
    "### 최적 클러스터 수 구하기 위해 inertia 구하기"
   ]
  },
  {
   "cell_type": "code",
   "execution_count": null,
   "id": "d6d4f47c",
   "metadata": {},
   "outputs": [],
   "source": [
    "kn = range(1,100)\n",
    "inertias = []\n",
    "\n",
    "for k in kn:\n",
    "    model = KMeans(n_clusters=k, random_state=42, n_init=20)\n",
    "    model.fit(pos)\n",
    "    inertias.append(model.inertia_)"
   ]
  },
  {
   "cell_type": "markdown",
   "id": "d8e62209",
   "metadata": {},
   "source": [
    "### 최적 클러스터 수 확인"
   ]
  },
  {
   "cell_type": "code",
   "execution_count": 23,
   "id": "3fbe8154",
   "metadata": {},
   "outputs": [
    {
     "data": {
      "image/png": "[encoded data removed]",
      "text/plain": [
       "<Figure size 500x400 with 1 Axes>"
      ]
     },
     "metadata": {},
     "output_type": "display_data"
    },
    {
     "name": "stdout",
     "output_type": "stream",
     "text": [
      "9\n"
     ]
    }
   ],
   "source": [
    "from matplotlib import pyplot as plt    \n",
    "plt.figure(figsize=(5, 4))\n",
    "\n",
    "plt.plot(kn, inertias, '-o')\n",
    "plt.xlabel('number of clusters, k')\n",
    "plt.ylabel('inertia')\n",
    "\n",
    "plt.show()\n",
    "\n",
    "#최적 클러스터 수 확인 -> 9개\n",
    "from kneed import KneeLocator\n",
    "\n",
    "kl = KneeLocator(range(1,len(inertias)+1), inertias, curve='convex', direction='decreasing')\n",
    "optimal_k = kl.elbow\n",
    "print(optimal_k)"
   ]
  },
  {
   "cell_type": "markdown",
   "id": "7a0829ad",
   "metadata": {},
   "source": [
    "### 클러스터링 진행"
   ]
  },
  {
   "cell_type": "code",
   "execution_count": 28,
   "id": "e4edd0f6",
   "metadata": {},
   "outputs": [],
   "source": [
    "#clustering\n",
    "k_num= 9\n",
    "kmeans = KMeans(n_clusters=k_num, random_state=42, n_init=10)\n",
    "kmeans.fit(pos)\n",
    "df['labels']= kmeans.labels_\n",
    "\n",
    "#클러스터링 한 후 중심점 위치 추출\n",
    "#centers = kmeans.cluster_centers_\n",
    "#dfcenters=pd.DataFrame(centers)\n",
    "\n",
    "#print(df.head())\n",
    "\n",
    "#파일로 출력\n",
    "df.to_csv('../Data/scoring_result_0823_1341_cluster9_20231750.csv')"
   ]
  },
  {
   "cell_type": "markdown",
   "id": "8b56c525",
   "metadata": {},
   "source": [
    "### 실루엣 계수"
   ]
  },
  {
   "cell_type": "code",
   "execution_count": 25,
   "id": "da77b4fd",
   "metadata": {},
   "outputs": [
    {
     "name": "stdout",
     "output_type": "stream",
     "text": [
      "0.40638180779176936\n"
     ]
    }
   ],
   "source": [
    "#실루엣 계수 계산\n",
    "score_samples = silhouette_samples(pos, df.labels)\n",
    "pos['silhoutte_coeff'] = score_samples\n",
    "\n",
    "#실루엣 평균 값 계산 => 0.9923154955304742\n",
    "average_score = silhouette_score(pos, df.labels)\n",
    "print(pos.silhoutte_coeff.mean())"
   ]
  },
  {
   "cell_type": "code",
   "execution_count": null,
   "id": "9862882e",
   "metadata": {},
   "outputs": [],
   "source": []
  },
  {
   "cell_type": "code",
   "execution_count": null,
   "id": "feba13f5",
   "metadata": {},
   "outputs": [],
   "source": []
  },
  {
   "cell_type": "code",
   "execution_count": null,
   "id": "7c408d16",
   "metadata": {
    "scrolled": true
   },
   "outputs": [],
   "source": []
  },
  {
   "cell_type": "code",
   "execution_count": null,
   "id": "1951d203",
   "metadata": {},
   "outputs": [],
   "source": []
  }
 ],
 "metadata": {
  "kernelspec": {
   "display_name": "Python 3 (ipykernel)",
   "language": "python",
   "name": "python3"
  },
  "language_info": {
   "codemirror_mode": {
    "name": "ipython",
    "version": 3
   },
   "file_extension": ".py",
   "mimetype": "text/x-python",
   "name": "python",
   "nbconvert_exporter": "python",
   "pygments_lexer": "ipython3",
   "version": "3.10.9"
  }
 },
 "nbformat": 4,
 "nbformat_minor": 5
}
