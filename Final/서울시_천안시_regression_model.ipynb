{
 "cells": [
  {
   "cell_type": "markdown",
   "id": "37eb271b",
   "metadata": {},
   "source": [
    "### 데이터 불러오기"
   ]
  },
  {
   "cell_type": "code",
   "execution_count": 2,
   "id": "9f308379",
   "metadata": {},
   "outputs": [],
   "source": [
    "import os\n",
    "\n",
    "os.chdir(r'C:\\Users\\USER\\Desktop\\천안시데이터')\n"
   ]
  },
  {
   "cell_type": "code",
   "execution_count": 3,
   "id": "d6162271",
   "metadata": {},
   "outputs": [],
   "source": [
    "import pandas as pd\n",
    "import numpy as np\n",
    "from sklearn.linear_model import LinearRegression\n",
    "\n",
    "# 데이터 읽기\n",
    "seoul = pd.read_csv('./seoul_data.csv')\n",
    "cheonan_all= pd.read_csv('./cheonan_data.csv')\n",
    "\n",
    "# 대여소 설치 할 8개 지역만 필터링\n",
    "cheonan=cheonan_all[cheonan_all.region.isin(['백석동','성정동','신안동','부성동','불당동','쌍용동','청룡동','신방동'])]"
   ]
  },
  {
   "cell_type": "markdown",
   "id": "bd2e9a99",
   "metadata": {},
   "source": [
    "### 독립변수 후보인 인구, 유동인구 간 상관계수 확인"
   ]
  },
  {
   "cell_type": "code",
   "execution_count": 13,
   "id": "e4d46e25",
   "metadata": {},
   "outputs": [
    {
     "name": "stdout",
     "output_type": "stream",
     "text": [
      "서울의 인구와 유동인구 간 상관계수:  0.8182130538756897\n",
      "천안의 인구와 유동인구 간 상관계수:  0.8737392808774126\n"
     ]
    }
   ],
   "source": [
    "# 독립변수 후보인 유동인구와 인구의 상관계수 확인 => 0.8 이상으로 상관성 존재\n",
    "print('서울의 인구와 유동인구 간 상관계수: ',seoul['pop'].corr(seoul['floating_pop_hour']))\n",
    "print('천안의 인구와 유동인구 간 상관계수: ',cheonan['pop'].corr(cheonan['floating_pop_hour']))"
   ]
  },
  {
   "cell_type": "markdown",
   "id": "55e23fea",
   "metadata": {},
   "source": [
    "### 인구, 유동인구를 합쳐서 새로운 두가지 독립변수 생성 (합, 곱)"
   ]
  },
  {
   "cell_type": "code",
   "execution_count": 14,
   "id": "2b25988b",
   "metadata": {},
   "outputs": [],
   "source": [
    "#유동인구와 인구는 상관성 있으므로 하나의 독립변수로 만들기\n",
    "\n",
    "#두 값을 더해서 독립변수 생성 \n",
    "seoul['pop_plus_fpop']=seoul['pop']+seoul['floating_pop_hour']\n",
    "cheonan['pop_plus_fpop']=cheonan['pop']+cheonan['floating_pop_hour']\n",
    "\n",
    "#두 값을 곱해서 독립변수 생성\n",
    "seoul['pop_multi_fpop']=seoul['pop']*seoul['floating_pop_hour']\n",
    "cheonan['pop_multi_fpop']=cheonan['pop']*cheonan['floating_pop_hour']"
   ]
  },
  {
   "cell_type": "markdown",
   "id": "74e31de0",
   "metadata": {},
   "source": [
    "### 인구와 유동인구를 합한 값을 독립변수로 회귀모델 생성"
   ]
  },
  {
   "cell_type": "code",
   "execution_count": 16,
   "id": "6de181e5",
   "metadata": {},
   "outputs": [
    {
     "name": "stdout",
     "output_type": "stream",
     "text": [
      "R2 값:  0.5237663789182683\n",
      "예측 결과:  [126.80343199]\n"
     ]
    }
   ],
   "source": [
    "# 단독 변수의 값은 유동 인구+ 인구\n",
    "x_cols = [\"pop_plus_fpop\"]\n",
    "\n",
    "#독립변수 데이터\n",
    "X = seoul[x_cols].values\n",
    "\n",
    "#종속변수는 대여소 수\n",
    "y = seoul.대여소.values\n",
    "\n",
    "\n",
    "cheon_sum=cheonan.sum()[x_cols]\n",
    "\n",
    "#회귀식에 넣어서 예측 할 천안 독립변수 데이터\n",
    "X_cheon=np.array([[cheon_sum[0]]])\n",
    "\n",
    "\n",
    "#서울시 유동인구+인구를 독립변수로, 따릉이 대여소 수를 종속변수로 회귀모델 생성\n",
    "reg = LinearRegression().fit(X, y)\n",
    "\n",
    "#R2 값 확인\n",
    "print(\"R2 값: \",reg.score(X,y))\n",
    "\n",
    "#천안시 데이터 넣어서 예측 값 확인\n",
    "pred_y=reg.predict(X_cheon)\n",
    "\n",
    "print(\"예측 결과: \",pred_y)"
   ]
  },
  {
   "cell_type": "markdown",
   "id": "f0f4a096",
   "metadata": {},
   "source": [
    "### 인구와 유동인구를 곱한 값을 독립변수로 회귀모델 생성 => 최종 모델"
   ]
  },
  {
   "cell_type": "code",
   "execution_count": 18,
   "id": "5e281f53",
   "metadata": {},
   "outputs": [
    {
     "name": "stdout",
     "output_type": "stream",
     "text": [
      "R2 값:  0.6833833813239782\n",
      "예측 결과:  [63.10184355]\n"
     ]
    }
   ],
   "source": [
    "# 단독 변수의 값은 유동 인구*인구\n",
    "x_cols = [\"pop_multi_fpop\"]\n",
    "\n",
    "#독립변수 데이터\n",
    "X = seoul[x_cols].values\n",
    "\n",
    "#종속변수는 대여소 수\n",
    "y = seoul.대여소.values\n",
    "\n",
    "\n",
    "cheon_sum=cheonan.sum()[x_cols]\n",
    "\n",
    "#회귀식에 넣어서 예측 할 천안 독립변수 데이터\n",
    "X_cheon=np.array([[cheon_sum[0]]])\n",
    "\n",
    "\n",
    "#서울시 유동인구*인구를 독립변수로, 따릉이 대여소 수를 종속변수로 회귀모델 생성\n",
    "reg = LinearRegression().fit(X, y)\n",
    "\n",
    "#R2 값 확인\n",
    "print(\"R2 값: \",reg.score(X,y))\n",
    "\n",
    "#천안시 데이터 넣어서 예측 값 확인\n",
    "pred_y=reg.predict(X_cheon)\n",
    "\n",
    "print(\"예측 결과: \",pred_y)"
   ]
  },
  {
   "cell_type": "code",
   "execution_count": 20,
   "id": "7b22833f",
   "metadata": {},
   "outputs": [
    {
     "data": {
      "text/plain": [
       "' 인구와 유동인구를 곱한 값을 독립변수로 회귀분석 한 결과의\\nR2값이 더 좋았으므로 최종 모델로 선택하고, 최종 대여소 수는 63 '"
      ]
     },
     "execution_count": 20,
     "metadata": {},
     "output_type": "execute_result"
    }
   ],
   "source": [
    "''' 인구와 유동인구를 곱한 값을 독립변수로 회귀분석 한 결과의\n",
    "R2값이 더 좋았으므로 최종 모델로 선택하고, 최종 대여소 수는 63 '''"
   ]
  }
 ],
 "metadata": {
  "kernelspec": {
   "display_name": "Python 3 (ipykernel)",
   "language": "python",
   "name": "python3"
  },
  "language_info": {
   "codemirror_mode": {
    "name": "ipython",
    "version": 3
   },
   "file_extension": ".py",
   "mimetype": "text/x-python",
   "name": "python",
   "nbconvert_exporter": "python",
   "pygments_lexer": "ipython3",
   "version": "3.10.9"
  }
 },
 "nbformat": 4,
 "nbformat_minor": 5
}
