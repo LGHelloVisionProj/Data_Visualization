{
 "cells": [
  {
   "cell_type": "code",
   "execution_count": 1,
   "id": "2c9e7e9b",
   "metadata": {},
   "outputs": [],
   "source": [
    "import pandas as pd\n",
    "import numpy as np\n",
    "import glob\n",
    "import os"
   ]
  },
  {
   "cell_type": "code",
   "execution_count": 2,
   "id": "b13c951f",
   "metadata": {},
   "outputs": [
    {
     "name": "stdout",
     "output_type": "stream",
     "text": [
      "./cheonan/seoul\\서울시 강남구 유동인구 수.CSV의 마지막 두 열 합을 서울시 강남구 유동인구 수_합계.CSV으로 저장하였습니다.\n",
      "./cheonan/seoul\\서울시 강동구 유동인구 수.CSV의 마지막 두 열 합을 서울시 강동구 유동인구 수_합계.CSV으로 저장하였습니다.\n",
      "./cheonan/seoul\\서울시 강북구 유동인구 수.CSV의 마지막 두 열 합을 서울시 강북구 유동인구 수_합계.CSV으로 저장하였습니다.\n",
      "./cheonan/seoul\\서울시 강서구 유동인구 수.CSV의 마지막 두 열 합을 서울시 강서구 유동인구 수_합계.CSV으로 저장하였습니다.\n",
      "./cheonan/seoul\\서울시 관악구 유동인구 수.CSV의 마지막 두 열 합을 서울시 관악구 유동인구 수_합계.CSV으로 저장하였습니다.\n",
      "./cheonan/seoul\\서울시 광진구 유동인구 수.CSV의 마지막 두 열 합을 서울시 광진구 유동인구 수_합계.CSV으로 저장하였습니다.\n",
      "./cheonan/seoul\\서울시 구로구 유동인구 수.CSV의 마지막 두 열 합을 서울시 구로구 유동인구 수_합계.CSV으로 저장하였습니다.\n",
      "./cheonan/seoul\\서울시 금천구 유동인구 수.CSV의 마지막 두 열 합을 서울시 금천구 유동인구 수_합계.CSV으로 저장하였습니다.\n",
      "./cheonan/seoul\\서울시 노원구 유동인구 수.CSV의 마지막 두 열 합을 서울시 노원구 유동인구 수_합계.CSV으로 저장하였습니다.\n",
      "./cheonan/seoul\\서울시 도봉구 유동인구 수.CSV의 마지막 두 열 합을 서울시 도봉구 유동인구 수_합계.CSV으로 저장하였습니다.\n",
      "./cheonan/seoul\\서울시 동대문구 유동인구 수.CSV의 마지막 두 열 합을 서울시 동대문구 유동인구 수_합계.CSV으로 저장하였습니다.\n",
      "./cheonan/seoul\\서울시 동작구 유동인구 수.CSV의 마지막 두 열 합을 서울시 동작구 유동인구 수_합계.CSV으로 저장하였습니다.\n",
      "./cheonan/seoul\\서울시 마포구 유동인구 수.CSV의 마지막 두 열 합을 서울시 마포구 유동인구 수_합계.CSV으로 저장하였습니다.\n",
      "./cheonan/seoul\\서울시 서대문구 유동인구 수.CSV의 마지막 두 열 합을 서울시 서대문구 유동인구 수_합계.CSV으로 저장하였습니다.\n",
      "./cheonan/seoul\\서울시 서초구 유동인구 수.CSV의 마지막 두 열 합을 서울시 서초구 유동인구 수_합계.CSV으로 저장하였습니다.\n",
      "./cheonan/seoul\\서울시 성동구 유동인구 수.CSV의 마지막 두 열 합을 서울시 성동구 유동인구 수_합계.CSV으로 저장하였습니다.\n",
      "./cheonan/seoul\\서울시 성북구 유동인구 수.CSV의 마지막 두 열 합을 서울시 성북구 유동인구 수_합계.CSV으로 저장하였습니다.\n",
      "./cheonan/seoul\\서울시 송파구 유동인구 수.CSV의 마지막 두 열 합을 서울시 송파구 유동인구 수_합계.CSV으로 저장하였습니다.\n",
      "./cheonan/seoul\\서울시 양천구 유동인구 수.CSV의 마지막 두 열 합을 서울시 양천구 유동인구 수_합계.CSV으로 저장하였습니다.\n",
      "./cheonan/seoul\\서울시 영등포구 유동인구 수.CSV의 마지막 두 열 합을 서울시 영등포구 유동인구 수_합계.CSV으로 저장하였습니다.\n",
      "./cheonan/seoul\\서울시 용산구 유동인구 수.CSV의 마지막 두 열 합을 서울시 용산구 유동인구 수_합계.CSV으로 저장하였습니다.\n",
      "./cheonan/seoul\\서울시 은평구 유동인구 수.CSV의 마지막 두 열 합을 서울시 은평구 유동인구 수_합계.CSV으로 저장하였습니다.\n",
      "./cheonan/seoul\\서울시 종로구 유동인구 수.CSV의 마지막 두 열 합을 서울시 종로구 유동인구 수_합계.CSV으로 저장하였습니다.\n",
      "./cheonan/seoul\\서울시 중구 유동인구 수.CSV의 마지막 두 열 합을 서울시 중구 유동인구 수_합계.CSV으로 저장하였습니다.\n",
      "./cheonan/seoul\\서울시 중랑구 유동인구 수.CSV의 마지막 두 열 합을 서울시 중랑구 유동인구 수_합계.CSV으로 저장하였습니다.\n"
     ]
    }
   ],
   "source": [
    "# 자치구 별 유동인구들의 총합을 구하고 '자치구 별 유동인구 수_합계' 파일로 저장\n",
    "# CSV 파일이 들어 있는 디렉토리 경로\n",
    "directory_path = './cheonan/seoul'\n",
    "\n",
    "# CSV 파일 목록 얻기\n",
    "csv_files = glob.glob(os.path.join(directory_path, '*.csv'))\n",
    "\n",
    "for csv_file in csv_files:\n",
    "    df = pd.read_csv(csv_file)  # CSV 파일을 데이터프레임으로 읽기\n",
    "    sum_of_last_two_columns = df.iloc[:, -2:].sum().sum()  # 마지막 두 열(서울시 자치구 별 유동인구)의 합 계산\n",
    "    \n",
    "    # 새로운 파일명 생성\n",
    "    filename, extension = os.path.splitext(os.path.basename(csv_file))\n",
    "    new_filename = f\"{filename}_합계{extension}\"\n",
    "    \n",
    "    # '자치구 별 유동인구 수_합계'를 파일명으로 갖는 새로운 CSV 파일 생성\n",
    "    new_df = pd.DataFrame({'합계': [sum_of_last_two_columns]})\n",
    "    new_df.to_csv(new_filename, index=False)\n",
    "    \n",
    "    print(f\"{csv_file}의 마지막 두 열 합을 {new_filename}으로 저장하였습니다.\")"
   ]
  },
  {
   "cell_type": "code",
   "execution_count": 3,
   "id": "b511d575",
   "metadata": {},
   "outputs": [
    {
     "name": "stdout",
     "output_type": "stream",
     "text": [
      "결과를 CSV 파일로 저장하였습니다.\n"
     ]
    }
   ],
   "source": [
    "# 자치구 별 유동인구를 region과 float_pop을 컬럼으로 하여 './seoul_sum/floating_pop.csv'로 저장\n",
    "# CSV 파일이 들어 있는 디렉토리 경로\n",
    "directory_path = './'\n",
    "\n",
    "# CSV 파일 목록 얻기\n",
    "csv_files = glob.glob(os.path.join(directory_path, '*.csv'))\n",
    "\n",
    "data_frames = []  # 데이터프레임들을 저장할 리스트\n",
    "\n",
    "for csv_file in csv_files:\n",
    "    df = pd.read_csv(csv_file)  # CSV 파일을 데이터프레임으로 읽기\n",
    "    filename = os.path.basename(csv_file)\n",
    "    \n",
    "    # 파일명을 공백으로 분리하여 두 번째 문자를 첫 번째 컬럼으로(각 자치구를 이름으로) 변경\n",
    "    filename_parts = filename.split()\n",
    "    if len(filename_parts) > 1:\n",
    "        df['새로운 컬럼'] = filename_parts[1]\n",
    "    \n",
    "    data_frames.append(df)  # 데이터프레임을 리스트에 추가\n",
    "\n",
    "# data_frames 리스트에 있는 모든 데이터프레임을 하나로 합치기\n",
    "merged_df = pd.concat(data_frames, ignore_index=True)\n",
    "\n",
    "merged_df.columns=['float_pop', 'region']\n",
    "# 합쳐진 데이터프레임을 'floating_pop'으로 저장\n",
    "output_file_path = os.path.join(directory_path, './cheonan/preprocessed_data/floating_pop.csv')\n",
    "merged_df.to_csv(output_file_path, index=False)\n",
    "\n",
    "print(\"결과를 CSV 파일로 저장하였습니다.\")"
   ]
  },
  {
   "cell_type": "code",
   "execution_count": 4,
   "id": "46c50c28",
   "metadata": {},
   "outputs": [
    {
     "name": "stdout",
     "output_type": "stream",
     "text": [
      "CSV 파일로 저장하였습니다.\n"
     ]
    }
   ],
   "source": [
    "# '따릉이대여소정보(23.06).xlsx' 파일에서 대여 방식 별 대여소 개수를 더하고 대여소 명에서 자치구 이름만 추출\n",
    "# 엑셀 파일 경로\n",
    "excel_file_path = './cheonan/따릉이대여소정보(23.06).xlsx'\n",
    "\n",
    "# 엑셀 파일을 DataFrame으로 읽어들임\n",
    "df = pd.read_excel(excel_file_path)\n",
    "\n",
    "# NaN 값을 0으로 치환\n",
    "df.fillna(0, inplace=True)\n",
    "\n",
    "# 대여 방식 별 대여소의 개수(뒤에서 두 번째와 세 번째 열)를 합쳐서 새로운 컬럼 추가\n",
    "df['대여 방식 별 대여소의 개수의 합'] = df.iloc[:, -3] + df.iloc[:, -2]\n",
    "\n",
    "# 자치구 이름과 대여소 개수의 합(세 번째 열과 마지막 열)을 선택\n",
    "selected_columns = df.iloc[:, [2, -1]]\n",
    "\n",
    "# 선택한 열을 CSV 파일로 저장\n",
    "output_csv_file_path = './cheonan/result.csv'\n",
    "selected_columns.to_csv(output_csv_file_path, index=False)\n",
    "\n",
    "print(\"CSV 파일로 저장하였습니다.\")\n"
   ]
  },
  {
   "cell_type": "code",
   "execution_count": 16,
   "id": "9ae1e4e4",
   "metadata": {},
   "outputs": [
    {
     "name": "stdout",
     "output_type": "stream",
     "text": [
      "그룹화된 결과를 CSV 파일로 저장하였습니다.\n"
     ]
    }
   ],
   "source": [
    "# 'result.csv' 파일에서 자치구 별 대여소 개수를 자치구 이름으로 그룹화\n",
    "# CSV 파일 경로\n",
    "csv_file_path = './cheonan/result.csv'\n",
    "\n",
    "# CSV 파일을 DataFrame으로 읽어들임\n",
    "df = pd.read_csv(csv_file_path)\n",
    "\n",
    "# result.csv 파일의 컬럼 설정 (자치구와 대여소 개수)\n",
    "df.columns=['region', 'cnt']\n",
    "\n",
    "# 'region' 열을 기준으로 'cnt' 값을 합쳐서 그룹별 합계 계산\n",
    "grouped_sum = df.groupby('region')['cnt'].sum().reset_index()\n",
    "\n",
    "# 결과를 새로운 CSV 파일로 저장\n",
    "grouped_sum.to_csv('./cheonan/preprocessed_data/cnt.csv', index=False)\n",
    "\n",
    "print(\"그룹화된 결과를 CSV 파일로 저장하였습니다.\")"
   ]
  },
  {
   "cell_type": "code",
   "execution_count": 6,
   "id": "2ac49e09",
   "metadata": {},
   "outputs": [
    {
     "name": "stdout",
     "output_type": "stream",
     "text": [
      "필터링된 결과를 CSV 파일로 저장하였습니다.\n"
     ]
    }
   ],
   "source": [
    "# '인구밀도_20230806203002.xlsx' 파일에서 자치구 별 인구를 필터링하여 저장\n",
    "# 엑셀 파일 경로\n",
    "excel_file_path = './cheonan/인구밀도_20230806203002.xlsx'\n",
    "\n",
    "# 엑셀 파일을 DataFrame으로 읽어들임\n",
    "df = pd.read_excel(excel_file_path)\n",
    "\n",
    "# 두 번째 컬럼이 NaN이 아닌 행들만 선택\n",
    "# 자치구 별 소계가 나와있기 때문에 두 번째 컬럼이 NaN이 아닌 행들만 계산\n",
    "filtered_df = df[df.iloc[:, 1].notna()]\n",
    "\n",
    "# 두 번째(자치구 명)와 네 번째 열(인구수)만 선택\n",
    "selected_columns = filtered_df.iloc[:, [1, 3]]\n",
    "\n",
    "# 결과를 CSV 파일로 저장\n",
    "output_csv_file_path = './cheonan/selected_result.csv'\n",
    "selected_columns.to_csv(output_csv_file_path, index=False)\n",
    "\n",
    "print(\"필터링된 결과를 CSV 파일로 저장하였습니다.\")"
   ]
  },
  {
   "cell_type": "code",
   "execution_count": 7,
   "id": "994c636e",
   "metadata": {},
   "outputs": [
    {
     "name": "stdout",
     "output_type": "stream",
     "text": [
      "선택된 결과를 CSV 파일로 저장하였습니다.\n"
     ]
    }
   ],
   "source": [
    "# 'selected_result.csv' 파일에서 자치구 별 인구수 추출\n",
    "# CSV 파일 경로\n",
    "csv_file_path = './cheonan/selected_result.csv'\n",
    "\n",
    "# CSV 파일을 DataFrame으로 읽고, 의미없는 첫 번째 행은 스킵\n",
    "df = pd.read_csv(csv_file_path, skiprows=[0])\n",
    "\n",
    "#각 컬럼을 region과 pop으로 수정\n",
    "df.columns=['region', 'pop']\n",
    "\n",
    "# 결과를 CSV 파일로 저장\n",
    "output_csv_file_path = './cheonan/preprocessed_data/pop.csv'\n",
    "df.to_csv(output_csv_file_path, index=False)\n",
    "\n",
    "print(\"선택된 결과를 CSV 파일로 저장하였습니다.\")"
   ]
  },
  {
   "cell_type": "code",
   "execution_count": 17,
   "id": "835e02c1",
   "metadata": {},
   "outputs": [
    {
     "name": "stdout",
     "output_type": "stream",
     "text": [
      "Merge된 결과를 CSV 파일로 저장하였습니다.\n"
     ]
    }
   ],
   "source": [
    "#전처리한 데이터들을 하나로 병합\n",
    "# CSV 파일 경로들\n",
    "csv_file_paths = ['./cheonan/preprocessed_data/pop.csv', './cheonan/preprocessed_data/floating_pop.csv', './cheonan/preprocessed_data/cnt.csv']\n",
    "\n",
    "# CSV 파일들을 각각 DataFrame으로 읽어들임\n",
    "dfs = [pd.read_csv(file_path) for file_path in csv_file_paths]\n",
    "\n",
    "# 'region' 열을 기준으로 merge\n",
    "merged_df = dfs[0]  # 첫 번째 DataFrame을 기준으로 설정\n",
    "for df in dfs[1:]:\n",
    "    merged_df = pd.merge(merged_df, df, on='region', how='outer')\n",
    "\n",
    "# 결과를 CSV 파일로 저장\n",
    "output_csv_file_path = './cheonan/preprocessed_data/merged_result.csv'\n",
    "merged_df.to_csv(output_csv_file_path, index=False)\n",
    "\n",
    "print(\"Merge된 결과를 CSV 파일로 저장하였습니다.\")"
   ]
  },
  {
   "cell_type": "code",
   "execution_count": 18,
   "id": "414678e1",
   "metadata": {},
   "outputs": [
    {
     "name": "stdout",
     "output_type": "stream",
     "text": [
      "[[ 864.20695453]\n",
      " [ 992.97728219]\n",
      " [ 980.04437868]\n",
      " [1097.15665781]\n",
      " [1226.63387736]\n",
      " [1342.4587033 ]\n",
      " [1372.11603427]\n",
      " [1302.35395664]\n",
      " [ 994.2237603 ]\n",
      " [1215.91780487]\n",
      " [1780.42470328]\n",
      " [1430.86509212]\n",
      " [1035.00700458]\n",
      " [1315.82164663]\n",
      " [1399.94044005]\n",
      " [1903.3960203 ]\n",
      " [1680.17652925]\n",
      " [1218.14544352]\n",
      " [1890.70713457]\n",
      " [1338.49703521]\n",
      " [1519.59388615]\n",
      " [1625.05649136]\n",
      " [2273.03516845]\n",
      " [2001.58709959]\n",
      " [1369.65689502]]\n",
      "                            OLS Regression Results                            \n",
      "==============================================================================\n",
      "Dep. Variable:                    cnt   R-squared:                       0.447\n",
      "Model:                            OLS   Adj. R-squared:                  0.397\n",
      "Method:                 Least Squares   F-statistic:                     8.884\n",
      "Date:                Thu, 17 Aug 2023   Prob (F-statistic):            0.00149\n",
      "Time:                        20:02:21   Log-Likelihood:                -184.53\n",
      "No. Observations:                  25   AIC:                             375.1\n",
      "Df Residuals:                      22   BIC:                             378.7\n",
      "Df Model:                           2                                         \n",
      "Covariance Type:            nonrobust                                         \n",
      "==============================================================================\n",
      "                 coef    std err          t      P>|t|      [0.025      0.975]\n",
      "------------------------------------------------------------------------------\n",
      "Intercept    143.4121    311.477      0.460      0.650    -502.552     789.376\n",
      "float_pop   1.261e-05   5.46e-06      2.310      0.031    1.29e-06    2.39e-05\n",
      "pop         8.479e-05      0.001      0.071      0.944      -0.002       0.003\n",
      "==============================================================================\n",
      "Omnibus:                        2.015   Durbin-Watson:                   1.639\n",
      "Prob(Omnibus):                  0.365   Jarque-Bera (JB):                1.769\n",
      "Skew:                           0.569   Prob(JB):                        0.413\n",
      "Kurtosis:                       2.365   Cond. No.                     3.81e+08\n",
      "==============================================================================\n",
      "\n",
      "Notes:\n",
      "[1] Standard Errors assume that the covariance matrix of the errors is correctly specified.\n",
      "[2] The condition number is large, 3.81e+08. This might indicate that there are\n",
      "strong multicollinearity or other numerical problems.\n"
     ]
    }
   ],
   "source": [
    "import statsmodels.api as sm\n",
    "from sklearn.linear_model import LinearRegression\n",
    "\n",
    "# 전처리된 데이터들을 이용하여 regression model 생성\n",
    "csv_file_path = './cheonan/preprocessed_data/merged_result.csv'\n",
    "df = pd.read_csv(csv_file_path)\n",
    "\n",
    "# 종속 변수의 값은 대여소의 개수\n",
    "y_col = [\"cnt\"]\n",
    "# 단독 변수의 값은 유동 인구와 인구\n",
    "x_cols = [\"float_pop\",\"pop\"]\n",
    "\n",
    "X = df[x_cols].values\n",
    "y = df[y_col].values\n",
    "reg = LinearRegression().fit(X, y)\n",
    "print(reg.predict(X))\n",
    "\n",
    "model = sm.OLS.from_formula(\"cnt ~ float_pop+pop\", data=df)\n",
    "result = model.fit()\n",
    "result.predict(df[x_cols])\n",
    "print(result.summary())"
   ]
  },
  {
   "cell_type": "code",
   "execution_count": null,
   "id": "324d829b",
   "metadata": {},
   "outputs": [],
   "source": []
  }
 ],
 "metadata": {
  "kernelspec": {
   "display_name": "Python 3 (ipykernel)",
   "language": "python",
   "name": "python3"
  },
  "language_info": {
   "codemirror_mode": {
    "name": "ipython",
    "version": 3
   },
   "file_extension": ".py",
   "mimetype": "text/x-python",
   "name": "python",
   "nbconvert_exporter": "python",
   "pygments_lexer": "ipython3",
   "version": "3.10.9"
  }
 },
 "nbformat": 4,
 "nbformat_minor": 5
}
