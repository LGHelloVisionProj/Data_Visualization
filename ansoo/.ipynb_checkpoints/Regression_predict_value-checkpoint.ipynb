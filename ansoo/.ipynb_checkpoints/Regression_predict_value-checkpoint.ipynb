{
 "cells": [
  {
   "cell_type": "code",
   "execution_count": 1,
   "id": "7b669693",
   "metadata": {},
   "outputs": [],
   "source": [
    "# 데이터 전처리에 필요한 라이브러리들을 import\n",
    "import pandas as pd\n",
    "import numpy as np\n",
    "import glob\n",
    "import os"
   ]
  },
  {
   "cell_type": "code",
   "execution_count": 2,
   "id": "c30df83b",
   "metadata": {},
   "outputs": [
    {
     "name": "stdout",
     "output_type": "stream",
     "text": [
      "서울시 자치구별 10세 이상 인구 수를 CSV 파일로 저장하였습니다.\n"
     ]
    }
   ],
   "source": [
    "# 서울시 주민등록인구(연령별_동별)_10세 이상.xlsx 파일을 불러오고 자치구별 10세 이상 인구 수를 새로운 csv 파일로 저장\n",
    "# 엑셀 파일 경로\n",
    "excel_file_path = 'C:/Users/USER/공모전/천안 데이터 시각화/데이터/seoul_data/주민등록인구(연령별_동별)_10세 이상.xlsx'\n",
    "\n",
    "# 엑셀 파일을 DataFrame으로 읽어들임\n",
    "df = pd.read_excel(excel_file_path, skiprows=3)  # 불필요한 처음 3개 행 스킵\n",
    "\n",
    "# 자치구 열과 10세 이상 인구의 합 열 선택\n",
    "selected_columns = df.iloc[:, [1, 3]]  \n",
    "\n",
    "# 컬럼을 region과 pop으로 설정\n",
    "selected_columns.columns = ['region', 'pop']\n",
    "\n",
    "# 선택한 열을 CSV 파일로 저장\n",
    "output_csv_file_path = 'C:/Users/USER/공모전/천안 데이터 시각화/데이터/preprocessed_data/seoul_pop.csv'\n",
    "selected_columns.to_csv(output_csv_file_path, index=False)\n",
    "\n",
    "print(\"서울시 자치구별 10세 이상 인구 수를 CSV 파일로 저장하였습니다.\")"
   ]
  },
  {
   "cell_type": "code",
   "execution_count": 4,
   "id": "c4d37a66",
   "metadata": {
    "scrolled": false
   },
   "outputs": [
    {
     "name": "stderr",
     "output_type": "stream",
     "text": [
      "C:\\Users\\USER\\AppData\\Local\\Temp\\ipykernel_9316\\1135969422.py:24: FutureWarning: The frame.append method is deprecated and will be removed from pandas in a future version. Use pandas.concat instead.\n",
      "  grouped_data = grouped_data.append({'region': region, 'floating_pop_hour' : floating_pop_hour}, ignore_index=True)\n",
      "C:\\Users\\USER\\AppData\\Local\\Temp\\ipykernel_9316\\1135969422.py:24: FutureWarning: The frame.append method is deprecated and will be removed from pandas in a future version. Use pandas.concat instead.\n",
      "  grouped_data = grouped_data.append({'region': region, 'floating_pop_hour' : floating_pop_hour}, ignore_index=True)\n",
      "C:\\Users\\USER\\AppData\\Local\\Temp\\ipykernel_9316\\1135969422.py:24: FutureWarning: The frame.append method is deprecated and will be removed from pandas in a future version. Use pandas.concat instead.\n",
      "  grouped_data = grouped_data.append({'region': region, 'floating_pop_hour' : floating_pop_hour}, ignore_index=True)\n",
      "C:\\Users\\USER\\AppData\\Local\\Temp\\ipykernel_9316\\1135969422.py:24: FutureWarning: The frame.append method is deprecated and will be removed from pandas in a future version. Use pandas.concat instead.\n",
      "  grouped_data = grouped_data.append({'region': region, 'floating_pop_hour' : floating_pop_hour}, ignore_index=True)\n",
      "C:\\Users\\USER\\AppData\\Local\\Temp\\ipykernel_9316\\1135969422.py:24: FutureWarning: The frame.append method is deprecated and will be removed from pandas in a future version. Use pandas.concat instead.\n",
      "  grouped_data = grouped_data.append({'region': region, 'floating_pop_hour' : floating_pop_hour}, ignore_index=True)\n",
      "C:\\Users\\USER\\AppData\\Local\\Temp\\ipykernel_9316\\1135969422.py:24: FutureWarning: The frame.append method is deprecated and will be removed from pandas in a future version. Use pandas.concat instead.\n",
      "  grouped_data = grouped_data.append({'region': region, 'floating_pop_hour' : floating_pop_hour}, ignore_index=True)\n",
      "C:\\Users\\USER\\AppData\\Local\\Temp\\ipykernel_9316\\1135969422.py:24: FutureWarning: The frame.append method is deprecated and will be removed from pandas in a future version. Use pandas.concat instead.\n",
      "  grouped_data = grouped_data.append({'region': region, 'floating_pop_hour' : floating_pop_hour}, ignore_index=True)\n",
      "C:\\Users\\USER\\AppData\\Local\\Temp\\ipykernel_9316\\1135969422.py:24: FutureWarning: The frame.append method is deprecated and will be removed from pandas in a future version. Use pandas.concat instead.\n",
      "  grouped_data = grouped_data.append({'region': region, 'floating_pop_hour' : floating_pop_hour}, ignore_index=True)\n",
      "C:\\Users\\USER\\AppData\\Local\\Temp\\ipykernel_9316\\1135969422.py:24: FutureWarning: The frame.append method is deprecated and will be removed from pandas in a future version. Use pandas.concat instead.\n",
      "  grouped_data = grouped_data.append({'region': region, 'floating_pop_hour' : floating_pop_hour}, ignore_index=True)\n",
      "C:\\Users\\USER\\AppData\\Local\\Temp\\ipykernel_9316\\1135969422.py:24: FutureWarning: The frame.append method is deprecated and will be removed from pandas in a future version. Use pandas.concat instead.\n",
      "  grouped_data = grouped_data.append({'region': region, 'floating_pop_hour' : floating_pop_hour}, ignore_index=True)\n",
      "C:\\Users\\USER\\AppData\\Local\\Temp\\ipykernel_9316\\1135969422.py:24: FutureWarning: The frame.append method is deprecated and will be removed from pandas in a future version. Use pandas.concat instead.\n",
      "  grouped_data = grouped_data.append({'region': region, 'floating_pop_hour' : floating_pop_hour}, ignore_index=True)\n",
      "C:\\Users\\USER\\AppData\\Local\\Temp\\ipykernel_9316\\1135969422.py:24: FutureWarning: The frame.append method is deprecated and will be removed from pandas in a future version. Use pandas.concat instead.\n",
      "  grouped_data = grouped_data.append({'region': region, 'floating_pop_hour' : floating_pop_hour}, ignore_index=True)\n",
      "C:\\Users\\USER\\AppData\\Local\\Temp\\ipykernel_9316\\1135969422.py:24: FutureWarning: The frame.append method is deprecated and will be removed from pandas in a future version. Use pandas.concat instead.\n",
      "  grouped_data = grouped_data.append({'region': region, 'floating_pop_hour' : floating_pop_hour}, ignore_index=True)\n",
      "C:\\Users\\USER\\AppData\\Local\\Temp\\ipykernel_9316\\1135969422.py:24: FutureWarning: The frame.append method is deprecated and will be removed from pandas in a future version. Use pandas.concat instead.\n",
      "  grouped_data = grouped_data.append({'region': region, 'floating_pop_hour' : floating_pop_hour}, ignore_index=True)\n",
      "C:\\Users\\USER\\AppData\\Local\\Temp\\ipykernel_9316\\1135969422.py:24: FutureWarning: The frame.append method is deprecated and will be removed from pandas in a future version. Use pandas.concat instead.\n",
      "  grouped_data = grouped_data.append({'region': region, 'floating_pop_hour' : floating_pop_hour}, ignore_index=True)\n",
      "C:\\Users\\USER\\AppData\\Local\\Temp\\ipykernel_9316\\1135969422.py:24: FutureWarning: The frame.append method is deprecated and will be removed from pandas in a future version. Use pandas.concat instead.\n",
      "  grouped_data = grouped_data.append({'region': region, 'floating_pop_hour' : floating_pop_hour}, ignore_index=True)\n",
      "C:\\Users\\USER\\AppData\\Local\\Temp\\ipykernel_9316\\1135969422.py:24: FutureWarning: The frame.append method is deprecated and will be removed from pandas in a future version. Use pandas.concat instead.\n",
      "  grouped_data = grouped_data.append({'region': region, 'floating_pop_hour' : floating_pop_hour}, ignore_index=True)\n",
      "C:\\Users\\USER\\AppData\\Local\\Temp\\ipykernel_9316\\1135969422.py:24: FutureWarning: The frame.append method is deprecated and will be removed from pandas in a future version. Use pandas.concat instead.\n",
      "  grouped_data = grouped_data.append({'region': region, 'floating_pop_hour' : floating_pop_hour}, ignore_index=True)\n",
      "C:\\Users\\USER\\AppData\\Local\\Temp\\ipykernel_9316\\1135969422.py:24: FutureWarning: The frame.append method is deprecated and will be removed from pandas in a future version. Use pandas.concat instead.\n",
      "  grouped_data = grouped_data.append({'region': region, 'floating_pop_hour' : floating_pop_hour}, ignore_index=True)\n",
      "C:\\Users\\USER\\AppData\\Local\\Temp\\ipykernel_9316\\1135969422.py:24: FutureWarning: The frame.append method is deprecated and will be removed from pandas in a future version. Use pandas.concat instead.\n",
      "  grouped_data = grouped_data.append({'region': region, 'floating_pop_hour' : floating_pop_hour}, ignore_index=True)\n",
      "C:\\Users\\USER\\AppData\\Local\\Temp\\ipykernel_9316\\1135969422.py:24: FutureWarning: The frame.append method is deprecated and will be removed from pandas in a future version. Use pandas.concat instead.\n",
      "  grouped_data = grouped_data.append({'region': region, 'floating_pop_hour' : floating_pop_hour}, ignore_index=True)\n",
      "C:\\Users\\USER\\AppData\\Local\\Temp\\ipykernel_9316\\1135969422.py:24: FutureWarning: The frame.append method is deprecated and will be removed from pandas in a future version. Use pandas.concat instead.\n",
      "  grouped_data = grouped_data.append({'region': region, 'floating_pop_hour' : floating_pop_hour}, ignore_index=True)\n"
     ]
    },
    {
     "name": "stdout",
     "output_type": "stream",
     "text": [
      "서울시 자치구를 기준으로 그룹화하여 시간 별 유동인구를 계산하고 CSV 파일로 저장하였습니다.\n"
     ]
    },
    {
     "name": "stderr",
     "output_type": "stream",
     "text": [
      "C:\\Users\\USER\\AppData\\Local\\Temp\\ipykernel_9316\\1135969422.py:24: FutureWarning: The frame.append method is deprecated and will be removed from pandas in a future version. Use pandas.concat instead.\n",
      "  grouped_data = grouped_data.append({'region': region, 'floating_pop_hour' : floating_pop_hour}, ignore_index=True)\n",
      "C:\\Users\\USER\\AppData\\Local\\Temp\\ipykernel_9316\\1135969422.py:24: FutureWarning: The frame.append method is deprecated and will be removed from pandas in a future version. Use pandas.concat instead.\n",
      "  grouped_data = grouped_data.append({'region': region, 'floating_pop_hour' : floating_pop_hour}, ignore_index=True)\n",
      "C:\\Users\\USER\\AppData\\Local\\Temp\\ipykernel_9316\\1135969422.py:24: FutureWarning: The frame.append method is deprecated and will be removed from pandas in a future version. Use pandas.concat instead.\n",
      "  grouped_data = grouped_data.append({'region': region, 'floating_pop_hour' : floating_pop_hour}, ignore_index=True)\n"
     ]
    }
   ],
   "source": [
    "# 자치구 별 유동인구 수 파일들을 모두 불러들이고 유동인구 수의 총합을 구해 'seoul_floating_pop.csv' 파일로 저장\n",
    "# CSV 파일이 들어 있는 디렉토리 경로\n",
    "directory_path = 'C:/Users/USER/공모전/천안 데이터 시각화/데이터/seoul_data'\n",
    "\n",
    "# CSV 파일 목록 얻기\n",
    "csv_files = glob.glob(os.path.join(directory_path, '*.csv'))\n",
    "\n",
    "# 그룹화된 결과를 저장할 데이터프레임 생성\n",
    "grouped_data = pd.DataFrame(columns=['region', 'floating_pop_hour'])\n",
    "\n",
    "for csv_file in csv_files:\n",
    "    df = pd.read_csv(csv_file)  # CSV 파일을 데이터프레임으로 읽기\n",
    "    \n",
    "    # AGRDE_CLS(10세 단위의 나이) 열의 값이 1 이상인 데이터만 추출(0 : 0~9세, 10 : 10~19세)\n",
    "    filtered_df = df[df['AGRDE_CLS'] >= 1]\n",
    "    \n",
    "    # 보행 유동인구와 비보행 유동인구의 합계와 시간당 평균 유동인구\n",
    "    floating_pop_hour = filtered_df.iloc[:, -2:].sum().sum() / 31 / 24\n",
    "\n",
    "    # SGG_NM(자치구) 열의 값 추출\n",
    "    region = filtered_df['SGG_NM'].iloc[0]\n",
    "\n",
    "    # 그룹화된 데이터프레임에 추가\n",
    "    grouped_data = grouped_data.append({'region': region, 'floating_pop_hour' : floating_pop_hour}, ignore_index=True)\n",
    "\n",
    "# 결과를 CSV 파일로 저장\n",
    "output_csv_file_path = 'C:/Users/USER/공모전/천안 데이터 시각화/데이터/preprocessed_data/seoul_floating_pop.csv'\n",
    "grouped_data.to_csv(output_csv_file_path, index=False)\n",
    "\n",
    "print(\"서울시 자치구를 기준으로 그룹화하여 시간 별 유동인구를 계산하고 CSV 파일로 저장하였습니다.\")"
   ]
  },
  {
   "cell_type": "code",
   "execution_count": 5,
   "id": "6905c17b",
   "metadata": {
    "scrolled": true
   },
   "outputs": [
    {
     "name": "stdout",
     "output_type": "stream",
     "text": [
      "천안시 자치구 별 10세 이상 인구를 CSV파일로 저장하였습니다.\n"
     ]
    }
   ],
   "source": [
    "# 천안시 동읍면 10세 이상 인구.xlsx 파일을 데이터 프레임으로 불러와서 csv로 저장\n",
    "# 엑셀 파일 경로\n",
    "excel_file_path = 'C:/Users/USER/공모전/천안 데이터 시각화/데이터/cheonan_data/천안시연령별인구현황(10세이상).xlsx'\n",
    "\n",
    "# 엑셀 파일을 DataFrame으로 읽어들임\n",
    "df = pd.read_excel(excel_file_path, header=None)\n",
    "\n",
    "# 자치구 열과 10세 이상 인구의 합 열 선택\n",
    "selected_columns = df.iloc[:, [0, 1]]  \n",
    "\n",
    "# 컬럼을 region과 pop으로 설정\n",
    "selected_columns.columns = ['region', 'pop']\n",
    "\n",
    "# csv 파일로 저장\n",
    "selected_columns.to_csv('C:/Users/USER/공모전/천안 데이터 시각화/데이터/preprocessed_data/cheonan_pop.csv', index=False)\n",
    "\n",
    "print(\"천안시 자치구 별 10세 이상 인구를 CSV파일로 저장하였습니다.\")"
   ]
  },
  {
   "cell_type": "code",
   "execution_count": 6,
   "id": "b7c55a99",
   "metadata": {
    "scrolled": true
   },
   "outputs": [
    {
     "name": "stdout",
     "output_type": "stream",
     "text": [
      "자치구를 기준으로 그룹화하여 시간 별 유동인구를 계산하고 CSV 파일로 저장하였습니다.\n"
     ]
    }
   ],
   "source": [
    "# 자치구 별 유동인구들의 총합을 구하고 '자치구 별 유동인구 수_합계' 파일로 저장\n",
    "# CSV 파일 경로\n",
    "csv_file_path = 'C:/Users/USER/공모전/천안 데이터 시각화/데이터/cheonan_data/천안시 행정동 기준 유동인구_20년 12월_수정.csv'\n",
    "\n",
    "# CSV 파일 불러오기\n",
    "df = pd.read_csv(csv_file_path)\n",
    "\n",
    "# AGRDE_CLS 열의 값이 2 이상인 데이터만 추출(10세 이상의 데이터 추출)\n",
    "filtered_df = df[df['AGRDE_CLS']>=2]\n",
    "\n",
    "# 보행 유동인구와 비보행 유동인구의 합계로 시간 당 평균 유동인구 계산\n",
    "floating_pop_hour = filtered_df[['REVISN_AMBLT_PUL_CNT', 'REVISN_NMBLT_PUL_CNT']].sum(axis=1) / 31 / 24\n",
    "\n",
    "# ADNG_NM(행당동) 열의 값 추출\n",
    "region = filtered_df['ADNG_NM']\n",
    "\n",
    "#생성했던 데이터 프레임에 추가\n",
    "extracted_data = {'region': region, 'floating_pop_hour' : floating_pop_hour}\n",
    "extracted_df = pd.DataFrame(extracted_data)\n",
    "\n",
    "# 'region' 열을 기준으로 'floating_pop_hour'의 값을 합쳐서 그룹별 합계 계산\n",
    "grouped_df = extracted_df.groupby('region')['floating_pop_hour'].sum().reset_index()\n",
    "\n",
    "# 결과를 CSV 파일로 저장\n",
    "output_csv_file_path = 'C:/Users/USER/공모전/천안 데이터 시각화/데이터/preprocessed_data/cheonan_floating_pop.csv'\n",
    "grouped_df.to_csv(output_csv_file_path, index=False)\n",
    "\n",
    "print(\"자치구를 기준으로 그룹화하여 시간 별 유동인구를 계산하고 CSV 파일로 저장하였습니다.\")"
   ]
  },
  {
   "cell_type": "code",
   "execution_count": 7,
   "id": "687bd29d",
   "metadata": {},
   "outputs": [
    {
     "name": "stdout",
     "output_type": "stream",
     "text": [
      "자치구 별 대여소의 개수를 CSV 파일로 저장하였습니다.\n"
     ]
    }
   ],
   "source": [
    "# '따릉이대여소정보(23.06).xlsx' 파일에서 자치구 별 대여소의 개수를 구하고\n",
    "# python으로 불러들여 자치구와 대여소 개수를 추출\n",
    "# CSV 파일 경로\n",
    "excel_file_path = 'C:/Users/USER/공모전/천안 데이터 시각화/데이터/seoul_data/따릉이대여소정보(23.06).xlsx'\n",
    "\n",
    "# CSV 파일을 DataFrame으로 읽어들임\n",
    "df = pd.read_excel(excel_file_path, header = None)\n",
    "\n",
    "# 컬럼 명을 'region'과 '대여소'로 설정\n",
    "df.columns = ['region', '대여소']\n",
    "\n",
    "# 결과를 새로운 CSV 파일로 저장\n",
    "df.to_csv('C:/Users/USER/공모전/천안 데이터 시각화/데이터/preprocessed_data/cnt.csv', index=False)\n",
    "\n",
    "print(\"자치구 별 대여소의 개수를 CSV 파일로 저장하였습니다.\")"
   ]
  },
  {
   "cell_type": "code",
   "execution_count": 8,
   "id": "020298af",
   "metadata": {},
   "outputs": [
    {
     "name": "stdout",
     "output_type": "stream",
     "text": [
      "merge된 결과를 CSV파일로 저장하였습니다.\n"
     ]
    }
   ],
   "source": [
    "# 서울시 자치구 별 인구 및 시간 당 유동 인구, 대여소 개수 데이터들을 하나로 merge\n",
    "# 엑셀 파일들의 경로\n",
    "df_1 = pd.read_csv('C:/Users/USER/공모전/천안 데이터 시각화/데이터/preprocessed_data/seoul_pop.csv')\n",
    "df_2 = pd.read_csv('C:/Users/USER/공모전/천안 데이터 시각화/데이터/preprocessed_data/seoul_floating_pop.csv')\n",
    "df_3 = pd.read_csv('C:/Users/USER/공모전/천안 데이터 시각화/데이터/preprocessed_data/cnt.csv')\n",
    "\n",
    "# 불러들인 csv 파일들을 하나로 merge\n",
    "merged_df1 = pd.merge(df_1, df_2 , on='region', how='outer')\n",
    "merged_df = pd.merge(merged_df1, df_3, on='region', how='outer')\n",
    "\n",
    "#'region','pop','floating_pop_hour','대여소'을 컬럼으로 새로운 데이터 프레임 생성\n",
    "merged_df.columns = ['region','pop','floating_pop_hour','대여소']\n",
    "\n",
    "# 결과를 새로운 CSV 파일로 저장\n",
    "output_csv_file_path = 'C:/Users/USER/공모전/천안 데이터 시각화/데이터/preprocessed_data/seoul_data.csv'\n",
    "merged_df.to_csv(output_csv_file_path, index=False)\n",
    "print(\"merge된 결과를 CSV파일로 저장하였습니다.\")"
   ]
  },
  {
   "cell_type": "code",
   "execution_count": 14,
   "id": "e3352776",
   "metadata": {},
   "outputs": [
    {
     "name": "stdout",
     "output_type": "stream",
     "text": [
      "merge된 결과를 CSV파일로 저장하였습니다.\n"
     ]
    }
   ],
   "source": [
    "# 천안시 자치구 별 인구와 시간 당 유동인구 데이터들을 하나의 파일로 merge\n",
    "# CSV 파일들의 경로\n",
    "df_1 = pd.read_csv('C:/Users/USER/공모전/천안 데이터 시각화/데이터/preprocessed_data/cheonan_pop.csv')\n",
    "df_2 = pd.read_csv('C:/Users/USER/공모전/천안 데이터 시각화/데이터/preprocessed_data/cheonan_floating_pop.csv')\n",
    "\n",
    "# 불러들인 CSV 파일들을 하나로 merge\n",
    "merged_df = pd.merge(df_1, df_2 , on='region', how='outer')\n",
    "\n",
    "# 천안시에서 인구가 많은 8개의 동만 추출\n",
    "region8 = ['부성동', '불당동', '쌍용동', '청룡동', '성정동', '신방동', '신안동', '백석동']\n",
    "merged_df = merged_df[merged_df['region'].isin(region8)]\n",
    "\n",
    "# 결과를 새로운 CSV 파일로 저장\n",
    "output_csv_file_path = 'C:/Users/USER/공모전/천안 데이터 시각화/데이터/preprocessed_data/cheonan_data.csv'\n",
    "merged_df.to_csv(output_csv_file_path, index=False)\n",
    "\n",
    "print(\"merge된 결과를 CSV파일로 저장하였습니다.\")"
   ]
  },
  {
   "cell_type": "code",
   "execution_count": 12,
   "id": "9d05d7a5",
   "metadata": {},
   "outputs": [],
   "source": [
    "# 회귀 모델 분석에 필요한 모듈 import\n",
    "from sklearn.linear_model import LinearRegression\n",
    "from sklearn.model_selection import train_test_split\n",
    "from sklearn.metrics import r2_score\n",
    "import statsmodels.api as sm"
   ]
  },
  {
   "cell_type": "code",
   "execution_count": 15,
   "id": "c78f31db",
   "metadata": {},
   "outputs": [
    {
     "name": "stdout",
     "output_type": "stream",
     "text": [
      "r2 score: 0.5614322671133372\n",
      "테스트 예측 값 : [[ 70.78866958]\n",
      " [132.36633144]\n",
      " [ 64.40482946]\n",
      " [153.96656851]\n",
      " [106.20333305]]\n"
     ]
    }
   ],
   "source": [
    "# 천안시 공공 자전거 대여소 개수 예측을 위한 regression model TEST\n",
    "# 전처리된 데이터들을 이용하여 regression model 생성\n",
    "csv_file_path = 'C:/Users/USER/공모전/천안 데이터 시각화/데이터/preprocessed_data/seoul_data.csv'\n",
    "seoul = pd.read_csv(csv_file_path)\n",
    "\n",
    "# 종속 변수의 값은 대여소의 개수\n",
    "y_col = [\"대여소\"]\n",
    "\n",
    "# 단독 변수의 값은 시간 당 유동 인구와 인구\n",
    "x_cols = [\"floating_pop_hour\", \"pop\"]\n",
    "\n",
    "# 대여소 수 예측 테스트\n",
    "X = seoul[x_cols].values\n",
    "y = seoul[y_col].values\n",
    "\n",
    "# train_test_split 모듈을 사용하여 모델 테스트\n",
    "X_train, X_test, Y_train, Y_test = train_test_split(X, y, test_size=0.2,shuffle=True, random_state=42)\n",
    "\n",
    "# LinearRegression 모델 테스트\n",
    "reg = LinearRegression().fit(X_train, Y_train)\n",
    "\n",
    "print(\"r2 score:\",reg.score(X_test, Y_test))\n",
    "\n",
    "#Y_test \n",
    "Y_pred= reg.predict(X_test)\n",
    "print(\"테스트 예측 값 :\", Y_pred)"
   ]
  },
  {
   "cell_type": "code",
   "execution_count": 17,
   "id": "fff9d53d",
   "metadata": {
    "scrolled": false
   },
   "outputs": [
    {
     "name": "stdout",
     "output_type": "stream",
     "text": [
      "R2 값:  0.6598825674509499\n",
      "예측 결과:  [122.05999359]\n"
     ]
    }
   ],
   "source": [
    "# 천안시 공공 자전거 대여소 개수 예측\n",
    "# 전처리된 데이터들을 이용하여 regression model 생성\n",
    "seoul = pd.read_csv('C:/Users/USER/공모전/천안 데이터 시각화/데이터/preprocessed_data/seoul_data.csv')\n",
    "cheonan= pd.read_csv('C:/Users/USER/공모전/천안 데이터 시각화/데이터/preprocessed_data/cheonan_data.csv')\n",
    "\n",
    "# 단독 변수의 값은 유동 인구와 인구\n",
    "x_cols = [\"floating_pop_hour\",\"pop\"]\n",
    "\n",
    "# regression model 학습을 위한 단독 변수와 종속 변수\n",
    "X = seoul[x_cols].values\n",
    "y = seoul.대여소.values\n",
    "\n",
    "# 천안시 공공 자전거 대여소 총 개수를 예측하기 위한\n",
    "# 천안시 자치구 별 시간 당 유동 인구 수와 자치구 별 인구 수의 총합 계산\n",
    "cheonan[x_cols].values\n",
    "cheon_sum=cheonan.sum()[x_cols]\n",
    "\n",
    "# 천안시 공공 자전거 대여소 총 개수의 예측을 위한 단독 변수\n",
    "X_cheon=np.array([[cheon_sum[0],cheon_sum[1]]])\n",
    "\n",
    "# regression model 학습\n",
    "reg = LinearRegression().fit(X, y)\n",
    "\n",
    "# 모델 평가를 위한 R2값 도출\n",
    "print(\"R2 값: \",reg.score(X,y))\n",
    "\n",
    "# 천안시 공공 자전거 대여소 총 개수 예측 값\n",
    "pred_y=reg.predict(X_cheon)\n",
    "print(\"예측 결과: \",pred_y)"
   ]
  },
  {
   "cell_type": "code",
   "execution_count": null,
   "id": "17db59e4",
   "metadata": {},
   "outputs": [],
   "source": []
  }
 ],
 "metadata": {
  "kernelspec": {
   "display_name": "Python 3 (ipykernel)",
   "language": "python",
   "name": "python3"
  },
  "language_info": {
   "codemirror_mode": {
    "name": "ipython",
    "version": 3
   },
   "file_extension": ".py",
   "mimetype": "text/x-python",
   "name": "python",
   "nbconvert_exporter": "python",
   "pygments_lexer": "ipython3",
   "version": "3.10.9"
  }
 },
 "nbformat": 4,
 "nbformat_minor": 5
}
