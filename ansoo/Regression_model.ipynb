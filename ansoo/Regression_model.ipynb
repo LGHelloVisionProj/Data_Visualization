{
 "cells": [
  {
   "cell_type": "code",
   "execution_count": 77,
   "id": "2ea87ffd",
   "metadata": {},
   "outputs": [],
   "source": [
    "import pandas as pd\n",
    "import numpy as np\n",
    "import glob\n",
    "import os"
   ]
  },
  {
   "cell_type": "code",
   "execution_count": 6,
   "id": "25705fb8",
   "metadata": {},
   "outputs": [
    {
     "name": "stdout",
     "output_type": "stream",
     "text": [
      "서울시 자치구별 10세 이상 인구 수를 seoul_pop.csv로 저장하였습니다.\n"
     ]
    }
   ],
   "source": [
    "# 서울시 주민등록인구(연령별_동별)_10세 이상.xlsx 파일을 불러오고 자치구별 10세 이상 인구 수를 새로운 csv 파일로 저장\n",
    "# 엑셀 파일 경로\n",
    "excel_file_path = './seoul_data/주민등록인구(연령별_동별)_10세 이상.xlsx'\n",
    "\n",
    "# 엑셀 파일을 DataFrame으로 읽어들임\n",
    "df = pd.read_excel(excel_file_path, skiprows=3)  # 불필요한 처음 3개 행 스킵\n",
    "\n",
    "# 자치구 열과 10세 이상 인구의 합 열 선택\n",
    "selected_columns = df.iloc[:, [1, 3]]  \n",
    "\n",
    "# 컬럼을 region과 pop으로 설정\n",
    "selected_columns.columns = ['region', 'pop']\n",
    "\n",
    "# 선택한 열을 CSV 파일로 저장\n",
    "output_csv_file_path = './preprocessed_data/seoul_pop.csv'\n",
    "selected_columns.to_csv(output_csv_file_path, index=False)\n",
    "\n",
    "print(\"서울시 자치구별 10세 이상 인구 수를 seoul_pop.csv로 저장하였습니다.\")"
   ]
  },
  {
   "cell_type": "code",
   "execution_count": 10,
   "id": "2698f42a",
   "metadata": {
    "scrolled": false
   },
   "outputs": [
    {
     "name": "stderr",
     "output_type": "stream",
     "text": [
      "C:\\Users\\USER\\AppData\\Local\\Temp\\ipykernel_6344\\4259452969.py:25: FutureWarning: The frame.append method is deprecated and will be removed from pandas in a future version. Use pandas.concat instead.\n",
      "  grouped_data = grouped_data.append({'region': region, 'floating_pop': floating_pop, 'floating_pop_hour' : floating_pop_hour}, ignore_index=True)\n",
      "C:\\Users\\USER\\AppData\\Local\\Temp\\ipykernel_6344\\4259452969.py:25: FutureWarning: The frame.append method is deprecated and will be removed from pandas in a future version. Use pandas.concat instead.\n",
      "  grouped_data = grouped_data.append({'region': region, 'floating_pop': floating_pop, 'floating_pop_hour' : floating_pop_hour}, ignore_index=True)\n",
      "C:\\Users\\USER\\AppData\\Local\\Temp\\ipykernel_6344\\4259452969.py:25: FutureWarning: The frame.append method is deprecated and will be removed from pandas in a future version. Use pandas.concat instead.\n",
      "  grouped_data = grouped_data.append({'region': region, 'floating_pop': floating_pop, 'floating_pop_hour' : floating_pop_hour}, ignore_index=True)\n",
      "C:\\Users\\USER\\AppData\\Local\\Temp\\ipykernel_6344\\4259452969.py:25: FutureWarning: The frame.append method is deprecated and will be removed from pandas in a future version. Use pandas.concat instead.\n",
      "  grouped_data = grouped_data.append({'region': region, 'floating_pop': floating_pop, 'floating_pop_hour' : floating_pop_hour}, ignore_index=True)\n",
      "C:\\Users\\USER\\AppData\\Local\\Temp\\ipykernel_6344\\4259452969.py:25: FutureWarning: The frame.append method is deprecated and will be removed from pandas in a future version. Use pandas.concat instead.\n",
      "  grouped_data = grouped_data.append({'region': region, 'floating_pop': floating_pop, 'floating_pop_hour' : floating_pop_hour}, ignore_index=True)\n",
      "C:\\Users\\USER\\AppData\\Local\\Temp\\ipykernel_6344\\4259452969.py:25: FutureWarning: The frame.append method is deprecated and will be removed from pandas in a future version. Use pandas.concat instead.\n",
      "  grouped_data = grouped_data.append({'region': region, 'floating_pop': floating_pop, 'floating_pop_hour' : floating_pop_hour}, ignore_index=True)\n",
      "C:\\Users\\USER\\AppData\\Local\\Temp\\ipykernel_6344\\4259452969.py:25: FutureWarning: The frame.append method is deprecated and will be removed from pandas in a future version. Use pandas.concat instead.\n",
      "  grouped_data = grouped_data.append({'region': region, 'floating_pop': floating_pop, 'floating_pop_hour' : floating_pop_hour}, ignore_index=True)\n",
      "C:\\Users\\USER\\AppData\\Local\\Temp\\ipykernel_6344\\4259452969.py:25: FutureWarning: The frame.append method is deprecated and will be removed from pandas in a future version. Use pandas.concat instead.\n",
      "  grouped_data = grouped_data.append({'region': region, 'floating_pop': floating_pop, 'floating_pop_hour' : floating_pop_hour}, ignore_index=True)\n",
      "C:\\Users\\USER\\AppData\\Local\\Temp\\ipykernel_6344\\4259452969.py:25: FutureWarning: The frame.append method is deprecated and will be removed from pandas in a future version. Use pandas.concat instead.\n",
      "  grouped_data = grouped_data.append({'region': region, 'floating_pop': floating_pop, 'floating_pop_hour' : floating_pop_hour}, ignore_index=True)\n",
      "C:\\Users\\USER\\AppData\\Local\\Temp\\ipykernel_6344\\4259452969.py:25: FutureWarning: The frame.append method is deprecated and will be removed from pandas in a future version. Use pandas.concat instead.\n",
      "  grouped_data = grouped_data.append({'region': region, 'floating_pop': floating_pop, 'floating_pop_hour' : floating_pop_hour}, ignore_index=True)\n",
      "C:\\Users\\USER\\AppData\\Local\\Temp\\ipykernel_6344\\4259452969.py:25: FutureWarning: The frame.append method is deprecated and will be removed from pandas in a future version. Use pandas.concat instead.\n",
      "  grouped_data = grouped_data.append({'region': region, 'floating_pop': floating_pop, 'floating_pop_hour' : floating_pop_hour}, ignore_index=True)\n",
      "C:\\Users\\USER\\AppData\\Local\\Temp\\ipykernel_6344\\4259452969.py:25: FutureWarning: The frame.append method is deprecated and will be removed from pandas in a future version. Use pandas.concat instead.\n",
      "  grouped_data = grouped_data.append({'region': region, 'floating_pop': floating_pop, 'floating_pop_hour' : floating_pop_hour}, ignore_index=True)\n",
      "C:\\Users\\USER\\AppData\\Local\\Temp\\ipykernel_6344\\4259452969.py:25: FutureWarning: The frame.append method is deprecated and will be removed from pandas in a future version. Use pandas.concat instead.\n",
      "  grouped_data = grouped_data.append({'region': region, 'floating_pop': floating_pop, 'floating_pop_hour' : floating_pop_hour}, ignore_index=True)\n",
      "C:\\Users\\USER\\AppData\\Local\\Temp\\ipykernel_6344\\4259452969.py:25: FutureWarning: The frame.append method is deprecated and will be removed from pandas in a future version. Use pandas.concat instead.\n",
      "  grouped_data = grouped_data.append({'region': region, 'floating_pop': floating_pop, 'floating_pop_hour' : floating_pop_hour}, ignore_index=True)\n",
      "C:\\Users\\USER\\AppData\\Local\\Temp\\ipykernel_6344\\4259452969.py:25: FutureWarning: The frame.append method is deprecated and will be removed from pandas in a future version. Use pandas.concat instead.\n",
      "  grouped_data = grouped_data.append({'region': region, 'floating_pop': floating_pop, 'floating_pop_hour' : floating_pop_hour}, ignore_index=True)\n",
      "C:\\Users\\USER\\AppData\\Local\\Temp\\ipykernel_6344\\4259452969.py:25: FutureWarning: The frame.append method is deprecated and will be removed from pandas in a future version. Use pandas.concat instead.\n",
      "  grouped_data = grouped_data.append({'region': region, 'floating_pop': floating_pop, 'floating_pop_hour' : floating_pop_hour}, ignore_index=True)\n",
      "C:\\Users\\USER\\AppData\\Local\\Temp\\ipykernel_6344\\4259452969.py:25: FutureWarning: The frame.append method is deprecated and will be removed from pandas in a future version. Use pandas.concat instead.\n",
      "  grouped_data = grouped_data.append({'region': region, 'floating_pop': floating_pop, 'floating_pop_hour' : floating_pop_hour}, ignore_index=True)\n",
      "C:\\Users\\USER\\AppData\\Local\\Temp\\ipykernel_6344\\4259452969.py:25: FutureWarning: The frame.append method is deprecated and will be removed from pandas in a future version. Use pandas.concat instead.\n",
      "  grouped_data = grouped_data.append({'region': region, 'floating_pop': floating_pop, 'floating_pop_hour' : floating_pop_hour}, ignore_index=True)\n",
      "C:\\Users\\USER\\AppData\\Local\\Temp\\ipykernel_6344\\4259452969.py:25: FutureWarning: The frame.append method is deprecated and will be removed from pandas in a future version. Use pandas.concat instead.\n",
      "  grouped_data = grouped_data.append({'region': region, 'floating_pop': floating_pop, 'floating_pop_hour' : floating_pop_hour}, ignore_index=True)\n"
     ]
    },
    {
     "name": "stdout",
     "output_type": "stream",
     "text": [
      "서울시 자치구를 기준으로 그룹화하여 보행 유동인구와 비보행 유동인구의 합계를 계산하고 저장하였습니다.\n"
     ]
    },
    {
     "name": "stderr",
     "output_type": "stream",
     "text": [
      "C:\\Users\\USER\\AppData\\Local\\Temp\\ipykernel_6344\\4259452969.py:25: FutureWarning: The frame.append method is deprecated and will be removed from pandas in a future version. Use pandas.concat instead.\n",
      "  grouped_data = grouped_data.append({'region': region, 'floating_pop': floating_pop, 'floating_pop_hour' : floating_pop_hour}, ignore_index=True)\n",
      "C:\\Users\\USER\\AppData\\Local\\Temp\\ipykernel_6344\\4259452969.py:25: FutureWarning: The frame.append method is deprecated and will be removed from pandas in a future version. Use pandas.concat instead.\n",
      "  grouped_data = grouped_data.append({'region': region, 'floating_pop': floating_pop, 'floating_pop_hour' : floating_pop_hour}, ignore_index=True)\n",
      "C:\\Users\\USER\\AppData\\Local\\Temp\\ipykernel_6344\\4259452969.py:25: FutureWarning: The frame.append method is deprecated and will be removed from pandas in a future version. Use pandas.concat instead.\n",
      "  grouped_data = grouped_data.append({'region': region, 'floating_pop': floating_pop, 'floating_pop_hour' : floating_pop_hour}, ignore_index=True)\n",
      "C:\\Users\\USER\\AppData\\Local\\Temp\\ipykernel_6344\\4259452969.py:25: FutureWarning: The frame.append method is deprecated and will be removed from pandas in a future version. Use pandas.concat instead.\n",
      "  grouped_data = grouped_data.append({'region': region, 'floating_pop': floating_pop, 'floating_pop_hour' : floating_pop_hour}, ignore_index=True)\n",
      "C:\\Users\\USER\\AppData\\Local\\Temp\\ipykernel_6344\\4259452969.py:25: FutureWarning: The frame.append method is deprecated and will be removed from pandas in a future version. Use pandas.concat instead.\n",
      "  grouped_data = grouped_data.append({'region': region, 'floating_pop': floating_pop, 'floating_pop_hour' : floating_pop_hour}, ignore_index=True)\n",
      "C:\\Users\\USER\\AppData\\Local\\Temp\\ipykernel_6344\\4259452969.py:25: FutureWarning: The frame.append method is deprecated and will be removed from pandas in a future version. Use pandas.concat instead.\n",
      "  grouped_data = grouped_data.append({'region': region, 'floating_pop': floating_pop, 'floating_pop_hour' : floating_pop_hour}, ignore_index=True)\n"
     ]
    }
   ],
   "source": [
    "# 자치구 별 유동인구 수 파일들을 모두 불러들이고 유동인구 수의 총합을 구해 'seoul_floating_pop.csv' 파일로 저장\n",
    "# CSV 파일이 들어 있는 디렉토리 경로\n",
    "directory_path = './seoul_data'\n",
    "\n",
    "# CSV 파일 목록 얻기\n",
    "csv_files = glob.glob(os.path.join(directory_path, '*.csv'))\n",
    "\n",
    "# 그룹화된 결과를 저장할 데이터프레임 생성\n",
    "grouped_data = pd.DataFrame(columns=['region', 'floating_pop', 'floating_pop_hour'])\n",
    "\n",
    "for csv_file in csv_files:\n",
    "    df = pd.read_csv(csv_file)  # CSV 파일을 데이터프레임으로 읽기\n",
    "    \n",
    "    # AGRDE_CLS(10세 단위의 나이) 열의 값이 1 이상인 데이터만 추출(0 : 0~9세, 10 : 10~19세)\n",
    "    filtered_df = df[df['AGRDE_CLS'] >= 1]\n",
    "    \n",
    "    # 보행 유동인구와 비보행 유동인구의 합계와 시간당 평균 유동인구\n",
    "    floating_pop = filtered_df.iloc[:, -2:].sum().sum()\n",
    "    floating_pop_hour = filtered_df.iloc[:, -2:].sum().sum() / 31 / 24\n",
    "\n",
    "    # SGG_NM(자치구) 열의 값 추출\n",
    "    region = filtered_df['SGG_NM'].iloc[0]\n",
    "\n",
    "    # 그룹화된 데이터프레임에 추가\n",
    "    grouped_data = grouped_data.append({'region': region, 'floating_pop': floating_pop, 'floating_pop_hour' : floating_pop_hour}, ignore_index=True)\n",
    "\n",
    "# 결과를 CSV 파일로 저장\n",
    "output_csv_file_path = './preprocessed_data/seoul_floating_pop.csv'\n",
    "grouped_data.to_csv(output_csv_file_path, index=False)\n",
    "\n",
    "print(\"서울시 자치구를 기준으로 그룹화하여 보행 유동인구와 비보행 유동인구의 합계를 계산하고 저장하였습니다.\")"
   ]
  },
  {
   "cell_type": "code",
   "execution_count": 19,
   "id": "2c75d44e",
   "metadata": {
    "scrolled": true
   },
   "outputs": [
    {
     "name": "stdout",
     "output_type": "stream",
     "text": [
      "천안시 자치구 별 10세 이상 인구를 CSV파일로 저장하였습니다.\n"
     ]
    }
   ],
   "source": [
    "#천안시 동읍면 10세 이상 인구.xlsx 파일을 데이터 프레임으로 불러와서 csv로 저장\n",
    "# 엑셀 파일 경로\n",
    "excel_file_path = './cheonan_data/천안시연령별인구현황(10세이상).xlsx'\n",
    "\n",
    "# 엑셀 파일을 DataFrame으로 읽어들임\n",
    "df = pd.read_excel(excel_file_path, header=None)\n",
    "\n",
    "# 자치구 열과 10세 이상 인구의 합 열 선택\n",
    "selected_columns = df.iloc[:, [0, 1]]  \n",
    "\n",
    "# 컬럼을 region과 pop으로 설정\n",
    "selected_columns.columns = ['region', 'pop']\n",
    "\n",
    "# csv 파일로 저장\n",
    "selected_columns.to_csv('./preprocessed_data/cheonan_pop.csv', index=False)\n",
    "\n",
    "print(\"천안시 자치구 별 10세 이상 인구를 CSV파일로 저장하였습니다.\")"
   ]
  },
  {
   "cell_type": "code",
   "execution_count": 20,
   "id": "aad6c1ae",
   "metadata": {},
   "outputs": [
    {
     "name": "stdout",
     "output_type": "stream",
     "text": [
      "자치구를 기준으로 그룹화하여 보행 유동인구와 비보행 유동인구의 합계를 계산하고 저장하였습니다.\n"
     ]
    },
    {
     "name": "stderr",
     "output_type": "stream",
     "text": [
      "C:\\Users\\USER\\AppData\\Local\\Temp\\ipykernel_6344\\3580637291.py:23: FutureWarning: Indexing with multiple keys (implicitly converted to a tuple of keys) will be deprecated, use a list instead.\n",
      "  grouped_df = extracted_df.groupby('region')['floating_pop', 'floating_pop_hour'].sum().reset_index()\n"
     ]
    }
   ],
   "source": [
    "# 자치구 별 유동인구들의 총합을 구하고 '자치구 별 유동인구 수_합계' 파일로 저장\n",
    "# CSV 파일 경로\n",
    "csv_file_path = './cheonan_data/천안시 행정동 기준 유동인구_20년 12월_수정.csv'\n",
    "\n",
    "# CSV 파일 불러오기\n",
    "df = pd.read_csv(csv_file_path)\n",
    "\n",
    "# AGRDE_CLS 열의 값이 2 이상인 데이터만 추출(10세 이상의 데이터 추출)\n",
    "filtered_df = df[df['AGRDE_CLS']>=2]\n",
    "\n",
    "# 보행 유동인구와 비보행 유동인구의 합계와 시간당 평균 유동인구\n",
    "floating_pop = filtered_df[['REVISN_AMBLT_PUL_CNT', 'REVISN_NMBLT_PUL_CNT']].sum(axis=1)\n",
    "floating_pop_hour = filtered_df[['REVISN_AMBLT_PUL_CNT', 'REVISN_NMBLT_PUL_CNT']].sum(axis=1) / 31 / 24\n",
    "\n",
    "# ADNG_NM(행당동) 열의 값 추출\n",
    "region = filtered_df['ADNG_NM']\n",
    "\n",
    "#생성했던 데이터 프레임에 추가\n",
    "extracted_data = {'region': region, 'floating_pop': floating_pop, 'floating_pop_hour' : floating_pop_hour}\n",
    "extracted_df = pd.DataFrame(extracted_data)\n",
    "\n",
    "# 'region' 열을 기준으로 'floating_pop'과 'floating_pop_hour'의 값을 합쳐서 그룹별 합계 계산\n",
    "grouped_df = extracted_df.groupby('region')['floating_pop', 'floating_pop_hour'].sum().reset_index()\n",
    "\n",
    "# 결과를 CSV 파일로 저장\n",
    "output_csv_file_path = './preprocessed_data/cheonan_floating_pop.csv'\n",
    "grouped_df.to_csv(output_csv_file_path, index=False)\n",
    "\n",
    "print(\"자치구를 기준으로 그룹화하여 보행 유동인구와 비보행 유동인구의 합계를 계산하고 저장하였습니다.\")"
   ]
  },
  {
   "cell_type": "code",
   "execution_count": 32,
   "id": "765bb637",
   "metadata": {
    "scrolled": true
   },
   "outputs": [
    {
     "name": "stdout",
     "output_type": "stream",
     "text": [
      "CSV 파일로 저장하였습니다.\n"
     ]
    }
   ],
   "source": [
    "# '따릉이대여소정보(23.06).xlsx' 파일에서 대여 방식 별 거치대 개수를 더하고 대여소 명에서 자치구 이름만 추출\n",
    "# 엑셀 파일 경로\n",
    "excel_file_path = './seoul_data/따릉이대여소정보(23.06).xlsx'\n",
    "\n",
    "# 엑셀 파일을 DataFrame으로 읽어들임\n",
    "df = pd.read_excel(excel_file_path, skiprows=4) # 불필요한 처음부터 4개의 행은 skip\n",
    "\n",
    "# NaN 값을 0으로 치환(대여 방식에 따라 NaN값이 있을 수 있음)\n",
    "df.fillna(0, inplace=True)\n",
    "\n",
    "# 대여 방식 별 거치대의 개수(뒤에서 네 번째와 다섯 번째 열)를 합쳐서 새로운 컬럼 추가\n",
    "df['대여 방식 별 거치대의 개수의 합'] = df.iloc[:, -4] + df.iloc[:, -5]\n",
    "\n",
    "# 자치구 이름과 거치대 개수의 합(두 번째 열과 마지막 열)을 선택\n",
    "selected_columns = df.iloc[:, [2, -1]]\n",
    "\n",
    "# 선택한 열을 CSV 파일로 저장\n",
    "output_csv_file_path = './result.csv'\n",
    "selected_columns.to_csv(output_csv_file_path, index=False)\n",
    "\n",
    "print(\"CSV 파일로 저장하였습니다.\")"
   ]
  },
  {
   "cell_type": "code",
   "execution_count": 34,
   "id": "7c1dd321",
   "metadata": {},
   "outputs": [
    {
     "name": "stdout",
     "output_type": "stream",
     "text": [
      "자치구 별 거치대의 개수를 CSV 파일로 저장하였습니다.\n"
     ]
    }
   ],
   "source": [
    "# 'result.csv' 파일에서 자치구 별 거치대 개수를 자치구 이름으로 그룹화\n",
    "# CSV 파일 경로\n",
    "csv_file_path = './result.csv'\n",
    "\n",
    "# CSV 파일을 DataFrame으로 읽어들임\n",
    "df = pd.read_csv(csv_file_path)\n",
    "\n",
    "# result.csv 파일의 컬럼 설정 (자치구와 거치대 개수)\n",
    "df.columns=['region', '거치대']\n",
    "\n",
    "# 'region' 열을 기준으로 'cnt' 값을 합쳐서 그룹별 합계 계산\n",
    "grouped_sum = df.groupby('region')['거치대'].sum().reset_index()\n",
    "\n",
    "# 결과를 새로운 CSV 파일로 저장\n",
    "grouped_sum.to_csv('./preprocessed_data/cnt1.csv', index=False)\n",
    "\n",
    "print(\"자치구 별 거치대의 개수를 CSV 파일로 저장하였습니다.\")"
   ]
  },
  {
   "cell_type": "code",
   "execution_count": 52,
   "id": "399882c5",
   "metadata": {},
   "outputs": [
    {
     "name": "stdout",
     "output_type": "stream",
     "text": [
      "자치구 별 대여소의 개수를 CSV 파일로 저장하였습니다.\n"
     ]
    }
   ],
   "source": [
    "# '따릉이대여소정보(23.06).xlsx' 파일에서 자치구 별 대여소의 개수를 구하고\n",
    "# python으로 불러들여 자치구와 대여소 개수를 추출\n",
    "# CSV 파일 경로\n",
    "excel_file_path = './seoul_data/따릉이대여소정보(23.06).xlsx'\n",
    "\n",
    "# CSV 파일을 DataFrame으로 읽어들임\n",
    "df = pd.read_excel(excel_file_path, header = None)\n",
    "\n",
    "# 컬럼 명을 'region'과 '대여소'로 설정\n",
    "df.columns = ['region', '대여소']\n",
    "\n",
    "# 결과를 새로운 CSV 파일로 저장\n",
    "df.to_csv('./preprocessed_data/cnt.csv', index=False)\n",
    "\n",
    "print(\"자치구 별 대여소의 개수를 CSV 파일로 저장하였습니다.\")"
   ]
  },
  {
   "cell_type": "code",
   "execution_count": 54,
   "id": "c04f838b",
   "metadata": {},
   "outputs": [
    {
     "name": "stdout",
     "output_type": "stream",
     "text": [
      "merge된 결과를 CSV파일로 저장하였습니다.\n"
     ]
    }
   ],
   "source": [
    "# 서울시 인구 및 유동 인구, 자치구 별 거치대 개수와 대여소 개수 데이터들을 하나로 merge\n",
    "# 엑셀 파일들의 경로\n",
    "df_1 = pd.read_csv('./preprocessed_data/seoul_pop.csv')\n",
    "df_2 = pd.read_csv('./preprocessed_data/seoul_floating_pop.csv')\n",
    "df_3 = pd.read_csv('./preprocessed_data/cnt.csv')\n",
    "df_4 = pd.read_csv('./preprocessed_data/cnt1.csv')\n",
    "\n",
    "# 불러들인 csv 파일들을 하나로 merge\n",
    "merged_df1 = pd.merge(df_1, df_2 , on='region', how='outer')\n",
    "merged_df2 = pd.merge(merged_df1, df_3, on='region', how='outer')\n",
    "merged_df = pd.merge(merged_df2, df_4, on='region', how='outer')\n",
    "merged_df.columns = ['region','pop','floating_pop','floating_pop_hour','대여소','거치대']\n",
    "\n",
    "# 결과를 새로운 CSV 파일로 저장\n",
    "output_csv_file_path = './preprocessed_data/seoul_data.csv'\n",
    "merged_df.to_csv(output_csv_file_path, index=False)\n",
    "print(\"merge된 결과를 CSV파일로 저장하였습니다.\")"
   ]
  },
  {
   "cell_type": "code",
   "execution_count": 53,
   "id": "410a37cc",
   "metadata": {},
   "outputs": [
    {
     "name": "stdout",
     "output_type": "stream",
     "text": [
      "merge된 결과를 CSV파일로 저장하였습니다.\n"
     ]
    }
   ],
   "source": [
    "# 천안시 인구와 유동인구 데이터들을 하나의 파일로 merge\n",
    "# CSV 파일들의 경로\n",
    "df_1 = pd.read_csv('./preprocessed_data/cheonan_pop.csv')\n",
    "df_2 = pd.read_csv('./preprocessed_data/cheonan_floating_pop.csv')\n",
    "\n",
    "# 불러들인 CSV 파일들을 하나로 merge\n",
    "merged_df = pd.merge(df_1, df_2 , on='region', how='outer')\n",
    "\n",
    "# 결과를 새로운 CSV 파일로 저장\n",
    "output_csv_file_path = './preprocessed_data/cheonan_data.csv'\n",
    "merged_df.to_csv(output_csv_file_path, index=False)\n",
    "print(\"merge된 결과를 CSV파일로 저장하였습니다.\")"
   ]
  },
  {
   "cell_type": "code",
   "execution_count": 101,
   "id": "cbfb269e",
   "metadata": {},
   "outputs": [],
   "source": [
    "from sklearn.linear_model import LinearRegression\n",
    "from sklearn.model_selection import train_test_split\n",
    "from sklearn.metrics import mean_squared_error, mean_squared_log_error,mean_absolute_error, r2_score\n",
    "import statsmodels.api as sm"
   ]
  },
  {
   "cell_type": "code",
   "execution_count": 99,
   "id": "1829a913",
   "metadata": {},
   "outputs": [
    {
     "name": "stdout",
     "output_type": "stream",
     "text": [
      "model score: 0.5614322671133372\n",
      "r2 score : 0.5614322671133372\n",
      "MAE Accuracy of LR 27.797387219852318\n",
      "model score: 0.43871223690444283\n",
      "r2 score : 0.43871223690444283\n",
      "MSE Accuracy of LR 264007.6265707736\n",
      "RMSE Accuracy of LR 513.8167246896247\n",
      "MAE Accuracy of LR 458.7090498811059\n"
     ]
    }
   ],
   "source": [
    "\n",
    "# 전처리된 데이터들을 이용하여 regression model 생성\n",
    "csv_file_path = './preprocessed_data/seoul_data.csv'\n",
    "df = pd.read_csv(csv_file_path)\n",
    "\n",
    "# 종속 변수의 값은 각각 대여소와 거치대의 개수\n",
    "y_col1 = [\"대여소\"]\n",
    "y_col2 = [\"거치대\"]\n",
    "# 단독 변수의 값은 유동 인구와 인구\n",
    "x_cols = [\"floating_pop_hour\", \"pop\"]\n",
    "\n",
    "#대여소 수 예측 테스트\n",
    "X = df[x_cols].values\n",
    "y1 = df[y_col1].values\n",
    "\n",
    "X_train, X_test, Y_train, Y_test = train_test_split(X, y1, test_size=0.2,shuffle=True, random_state=42)\n",
    "\n",
    "# sklearn LinearRegression 모델을 사용하여 학습 및 테스트\n",
    "reg = LinearRegression().fit(X_train, Y_train)\n",
    "\n",
    "#print(\"model score:\",reg.score(X,y1))\n",
    "#print(\"model score:\",reg.score(X_train,Y_train))\n",
    "print(\"model score:\",reg.score(X_test, Y_test))\n",
    "\n",
    "#Y_test \n",
    "Y_pred= reg.predict(X_test)\n",
    "print('r2 score :', r2_score(Y_test, Y_pred))\n",
    "\n",
    "#model.score\n",
    "\n",
    "#print(\"sklearn 예측 결과:\", Y_pred)\n",
    "#print('MSE Accuracy of LR',mean_squared_log_error(Y_pred, Y_test))\n",
    "#print('RMSE Accuracy of LR',np.sqrt(mean_squared_error(Y_pred,Y_test)))\n",
    "print('MAE Accuracy of LR',mean_absolute_error(Y_pred,Y_test))\n",
    "\n",
    "# 모델 summary\n",
    "model = sm.OLS.from_formula(\"대여소 ~ floating_pop_hour+pop\", data=df)\n",
    "result = model.fit()\n",
    "result.predict(df[x_cols])\n",
    "print(result.summary())\n",
    "\n",
    "#거치대 수 예측 테스트\n",
    "X = df[x_cols].values\n",
    "y2 = df[y_col2].values\n",
    "\n",
    "X_train, X_test, Y_train, Y_test = train_test_split(X, y2, test_size=0.2,shuffle=True, random_state=42)\n",
    "\n",
    "# sklearn LinearRegression 모델을 사용하여 학습 및 테스트\n",
    "reg = LinearRegression().fit(X_train, Y_train)\n",
    "\n",
    "#print(\"model score:\",reg.score(X,y1))\n",
    "#print(\"model score:\",reg.score(X_train,Y_train))\n",
    "print(\"model score:\",reg.score(X_test, Y_test))\n",
    "\n",
    "#Y_test \n",
    "Y_pred= reg.predict(X_test)\n",
    "print('r2 score :', r2_score(Y_test, Y_pred))\n",
    "\n",
    "#model.score\n",
    "\n",
    "#print(\"sklearn 예측 결과:\", Y_pred)\n",
    "print('MSE Accuracy of LR',mean_squared_error(Y_pred, Y_test))\n",
    "print('RMSE Accuracy of LR',np.sqrt(mean_squared_error(Y_pred,Y_test)))\n",
    "print('MAE Accuracy of LR',mean_absolute_error(Y_pred,Y_test))\n",
    "\n",
    "# 모델 summary\n",
    "model = sm.OLS.from_formula(\"거치대 ~ floating_pop_hour+pop\", data=df)\n",
    "result = model.fit()\n",
    "result.predict(df[x_cols])\n",
    "print(result.summary())"
   ]
  },
  {
   "cell_type": "code",
   "execution_count": 100,
   "id": "0146b7ac",
   "metadata": {},
   "outputs": [
    {
     "name": "stdout",
     "output_type": "stream",
     "text": [
      "                            OLS Regression Results                            \n",
      "==============================================================================\n",
      "Dep. Variable:                    대여소   R-squared:                       0.660\n",
      "Model:                            OLS   Adj. R-squared:                  0.629\n",
      "Method:                 Least Squares   F-statistic:                     21.34\n",
      "Date:                Mon, 21 Aug 2023   Prob (F-statistic):           7.05e-06\n",
      "Time:                        16:02:47   Log-Likelihood:                -113.42\n",
      "No. Observations:                  25   AIC:                             232.8\n",
      "Df Residuals:                      22   BIC:                             236.5\n",
      "Df Model:                           2                                         \n",
      "Covariance Type:            nonrobust                                         \n",
      "=====================================================================================\n",
      "                        coef    std err          t      P>|t|      [0.025      0.975]\n",
      "-------------------------------------------------------------------------------------\n",
      "Intercept            -3.7972     18.085     -0.210      0.836     -41.302      33.708\n",
      "floating_pop_hour     0.0009      0.000      3.755      0.001       0.000       0.001\n",
      "pop                1.017e-07    7.2e-05      0.001      0.999      -0.000       0.000\n",
      "==============================================================================\n",
      "Omnibus:                        2.019   Durbin-Watson:                   1.524\n",
      "Prob(Omnibus):                  0.364   Jarque-Bera (JB):                1.459\n",
      "Skew:                           0.587   Prob(JB):                        0.482\n",
      "Kurtosis:                       2.843   Cond. No.                     1.49e+06\n",
      "==============================================================================\n",
      "\n",
      "Notes:\n",
      "[1] Standard Errors assume that the covariance matrix of the errors is correctly specified.\n",
      "[2] The condition number is large, 1.49e+06. This might indicate that there are\n",
      "strong multicollinearity or other numerical problems.\n",
      "                            OLS Regression Results                            \n",
      "==============================================================================\n",
      "Dep. Variable:                    거치대   R-squared:                       0.448\n",
      "Model:                            OLS   Adj. R-squared:                  0.398\n",
      "Method:                 Least Squares   F-statistic:                     8.927\n",
      "Date:                Mon, 21 Aug 2023   Prob (F-statistic):            0.00145\n",
      "Time:                        16:02:47   Log-Likelihood:                -184.50\n",
      "No. Observations:                  25   AIC:                             375.0\n",
      "Df Residuals:                      22   BIC:                             378.7\n",
      "Df Model:                           2                                         \n",
      "Covariance Type:            nonrobust                                         \n",
      "=====================================================================================\n",
      "                        coef    std err          t      P>|t|      [0.025      0.975]\n",
      "-------------------------------------------------------------------------------------\n",
      "Intercept           144.0967    310.580      0.464      0.647    -500.006     788.200\n",
      "floating_pop_hour     0.0099      0.004      2.471      0.022       0.002       0.018\n",
      "pop               -6.298e-05      0.001     -0.051      0.960      -0.003       0.003\n",
      "==============================================================================\n",
      "Omnibus:                        2.038   Durbin-Watson:                   1.658\n",
      "Prob(Omnibus):                  0.361   Jarque-Bera (JB):                1.789\n",
      "Skew:                           0.589   Prob(JB):                        0.409\n",
      "Kurtosis:                       2.428   Cond. No.                     1.49e+06\n",
      "==============================================================================\n",
      "\n",
      "Notes:\n",
      "[1] Standard Errors assume that the covariance matrix of the errors is correctly specified.\n",
      "[2] The condition number is large, 1.49e+06. This might indicate that there are\n",
      "strong multicollinearity or other numerical problems.\n"
     ]
    }
   ],
   "source": [
    "\n",
    "\n",
    "\n"
   ]
  },
  {
   "cell_type": "code",
   "execution_count": 72,
   "id": "f1d67a07",
   "metadata": {},
   "outputs": [
    {
     "name": "stdout",
     "output_type": "stream",
     "text": [
      "예측한 결과를 CSV파일로 저장하였습니다.\n"
     ]
    }
   ],
   "source": [
    "# 대여소 개수 예측\n",
    "# 전처리된 데이터들을 이용하여 regression model 생성\n",
    "csv_file_path = './preprocessed_data/seoul_data.csv'\n",
    "df = pd.read_csv(csv_file_path)\n",
    "\n",
    "# 종속 변수의 값은 따릉이의 자치구 별 대여소의 개수\n",
    "y_col = [\"대여소\"]\n",
    "# 단독 변수의 값은 서울시 자치구 별 유동 인구와 인구\n",
    "x_cols = [\"floating_pop_hour\", \"pop\"]\n",
    "\n",
    "X = df[x_cols].values\n",
    "y = df[y_col].values\n",
    "\n",
    "# 회귀 모델 생성\n",
    "reg = LinearRegression().fit(X, y)\n",
    "\n",
    "# 전처리한 천안시의 데이터 파일 불러오기\n",
    "new_csv_file_path = './preprocessed_data/cheonan_data.csv'\n",
    "new_df = pd.read_csv(new_csv_file_path)\n",
    "\n",
    "# X1은 천안시 자치구 별 유동인구와 인구\n",
    "X1 = new_df[x_cols].values\n",
    "\n",
    "# 천안시 공공 자전거의 대여소 개수 예측\n",
    "pred_y = reg.predict(X1)\n",
    "\n",
    "# 예측한 결과를 새로운 데이터 프레임으로 저장\n",
    "y2 = pd.DataFrame(pred_y)\n",
    "y2.columns = ['대여소']\n",
    "\n",
    "# 결과를 새로운 데이터로 저장\n",
    "output_csv_file_path = './preprocessed_data/regression_result2.csv'\n",
    "y2.to_csv(output_csv_file_path, index=False)\n",
    "print(\"예측한 결과를 CSV파일로 저장하였습니다.\")"
   ]
  },
  {
   "cell_type": "code",
   "execution_count": 73,
   "id": "bd516396",
   "metadata": {},
   "outputs": [
    {
     "name": "stdout",
     "output_type": "stream",
     "text": [
      "예측한 결과를 CSV파일로 저장하였습니다.\n"
     ]
    }
   ],
   "source": [
    "#거치대 개수 예측\n",
    "# 전처리된 데이터들을 이용하여 regression model 생성\n",
    "csv_file_path = './preprocessed_data/seoul_data.csv'\n",
    "df = pd.read_csv(csv_file_path)\n",
    "\n",
    "# 종속 변수의 값은 거치대의 개수\n",
    "y_col = [\"거치대\"]\n",
    "# 단독 변수의 값은 유동 인구와 인구\n",
    "x_cols = [\"floating_pop_hour\", \"pop\"]\n",
    "\n",
    "X = df[x_cols].values\n",
    "y = df[y_col].values\n",
    "\n",
    "reg = LinearRegression().fit(X, y)\n",
    "\n",
    "# 전처리한 천안시의 데이터 파일 불러오기\n",
    "new_csv_file_path = './preprocessed_data/cheonan_data.csv'\n",
    "new_df = pd.read_csv(new_csv_file_path)\n",
    "\n",
    "# X1은 천안시 자치구 별 유동인구와 인구\n",
    "X1 = new_df[x_cols].values\n",
    "\n",
    "# 천안시 공공 자전거의 거치대 개수 예측\n",
    "pred_y = reg.predict(X1)\n",
    "\n",
    "# 예측한 결과를 새로운 데이터 프레임으로 저장\n",
    "y1 = pd.DataFrame(pred_y)\n",
    "y1.columns = ['거치대']\n",
    "\n",
    "# 결과를 새로운 데이터로 저장\n",
    "output_csv_file_path = './preprocessed_data/regression_result1.csv'\n",
    "y1.to_csv(output_csv_file_path, index=False)\n",
    "print(\"예측한 결과를 CSV파일로 저장하였습니다.\")"
   ]
  },
  {
   "cell_type": "code",
   "execution_count": 74,
   "id": "bfd5aa35",
   "metadata": {},
   "outputs": [
    {
     "name": "stdout",
     "output_type": "stream",
     "text": [
      "merge된 결과를 CSV파일로 저장하였습니다.\n"
     ]
    }
   ],
   "source": [
    "# 예측한 데이터들을 천안시 데이터의 'region' 열과 merge\n",
    "# CSV 파일들의 경로\n",
    "df_1 = pd.read_csv('./preprocessed_data/cheonan_data.csv')\n",
    "df_1 = df_1.iloc[:, [0]]\n",
    "df_2 = pd.read_csv('./preprocessed_data/regression_result1.csv')\n",
    "df_3 = pd.read_csv('./preprocessed_data/regression_result2.csv')\n",
    "\n",
    "# 'region'열과 거치대, 대여소 수를 예측한 값을 새로운 데이터 프레임으로 저장\n",
    "df = pd.concat([df_1, df_2, df_3], axis=1)\n",
    "df.columns = ['region', '거치대', '대여소']\n",
    "\n",
    "output_csv_file_path = './preprocessed_data/regression_result.csv'\n",
    "df.to_csv(output_csv_file_path, index=False)\n",
    "print(\"merge된 결과를 CSV파일로 저장하였습니다.\")"
   ]
  },
  {
   "cell_type": "code",
   "execution_count": null,
   "id": "40209569",
   "metadata": {},
   "outputs": [],
   "source": []
  },
  {
   "cell_type": "code",
   "execution_count": null,
   "id": "387ee258",
   "metadata": {},
   "outputs": [],
   "source": []
  }
 ],
 "metadata": {
  "kernelspec": {
   "display_name": "Python 3 (ipykernel)",
   "language": "python",
   "name": "python3"
  },
  "language_info": {
   "codemirror_mode": {
    "name": "ipython",
    "version": 3
   },
   "file_extension": ".py",
   "mimetype": "text/x-python",
   "name": "python",
   "nbconvert_exporter": "python",
   "pygments_lexer": "ipython3",
   "version": "3.10.9"
  }
 },
 "nbformat": 4,
 "nbformat_minor": 5
}
