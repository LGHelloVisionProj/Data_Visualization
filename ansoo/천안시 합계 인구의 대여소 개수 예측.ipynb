{
 "cells": [
  {
   "cell_type": "code",
   "execution_count": 2,
   "id": "aa9d9200",
   "metadata": {},
   "outputs": [],
   "source": [
    "import pandas as pd\n",
    "import numpy as np\n",
    "import glob\n",
    "import os"
   ]
  },
  {
   "cell_type": "code",
   "execution_count": 17,
   "id": "a30823f7",
   "metadata": {},
   "outputs": [
    {
     "name": "stdout",
     "output_type": "stream",
     "text": [
      "      pop  floating_pop_hour\n",
      "0  613219      220150.263754\n"
     ]
    }
   ],
   "source": [
    "df=pd.read_csv('./preprocessed_data/cheonan_data.csv')\n",
    "\n",
    "df['sum_pop'] = df['pop'] + df['floating_pop_hour']\n",
    "sum1 = sum(df['pop']) \n",
    "sum2 = sum(df['floating_pop_hour'])\n",
    "\n",
    "data = {'pop':[sum1],'floating_pop_hour':[sum2]}\n",
    "sum_pop_df = pd.DataFrame(data)\n",
    "print(sum_pop_df)\n",
    "\n",
    "csv_file_path='./cnt/천안시인구합계.csv'\n",
    "sum_pop_df.to_csv(csv_file_path, index=False)\n"
   ]
  },
  {
   "cell_type": "markdown",
   "id": "0b814eaf",
   "metadata": {},
   "source": [
    "테스트 적용 모델"
   ]
  },
  {
   "cell_type": "code",
   "execution_count": 54,
   "id": "1ab06f9e",
   "metadata": {},
   "outputs": [
    {
     "name": "stdout",
     "output_type": "stream",
     "text": [
      "model score: 0.5614322671133372\n",
      "r2 score : 0.5614322671133372\n",
      "[[181.24058475]]\n"
     ]
    }
   ],
   "source": [
    "from sklearn.linear_model import LinearRegression\n",
    "from sklearn.model_selection import train_test_split\n",
    "from sklearn.metrics import mean_squared_error, mean_squared_log_error,mean_absolute_error, r2_score\n",
    "import statsmodels.api as sm\n",
    "# 전처리된 데이터들을 이용하여 regression model 생성\n",
    "csv_file_path = './preprocessed_data/seoul_data.csv'\n",
    "df = pd.read_csv(csv_file_path)\n",
    "\n",
    "# 종속 변수의 값은 따릉이의 자치구 별 대여소의 개수\n",
    "y_col = [\"대여소\"]\n",
    "# 단독 변수의 값은 서울시 자치구 별 유동 인구와 인구\n",
    "x_cols = [\"floating_pop_hour\", \"pop\"]\n",
    "\n",
    "X = df[x_cols].values\n",
    "y = df[y_col].values\n",
    "\n",
    "# 회귀 모델 생성\n",
    "reg = LinearRegression().fit(X, y)\n",
    "\n",
    "X_train, X_test, Y_train, Y_test = train_test_split(X, y, test_size=0.2,shuffle=True, random_state=42)\n",
    "\n",
    "# sklearn LinearRegression 모델을 사용하여 학습 및 테스트\n",
    "reg = LinearRegression().fit(X_train, Y_train)\n",
    "\n",
    "#print(\"model score:\",reg.score(X,y))\n",
    "#print(\"model score:\",reg.score(X_train,Y_train))\n",
    "print(\"model score:\",reg.score(X_test, Y_test))\n",
    "\n",
    "#Y_test \n",
    "Y_pred= reg.predict(X_test)\n",
    "print('r2 score :', r2_score(Y_test, Y_pred))\n",
    "# 전처리한 천안시의 데이터 파일 불러오기\n",
    "new_csv_file_path = './cnt/천안시인구합계.csv'\n",
    "new_df = pd.read_csv(new_csv_file_path)\n",
    "\n",
    "# X1은 천안시 자치구 별 유동인구와 인구\n",
    "X1 = new_df[x_cols].values\n",
    "\n",
    "# 천안시 공공 자전거의 대여소 개수 예측\n",
    "pred_y = reg.predict(X1)\n",
    "print(pred_y)\n"
   ]
  },
  {
   "cell_type": "markdown",
   "id": "fa67892f",
   "metadata": {},
   "source": [
    "테스트 없는 모델"
   ]
  },
  {
   "cell_type": "code",
   "execution_count": 50,
   "id": "4a91d693",
   "metadata": {},
   "outputs": [
    {
     "name": "stdout",
     "output_type": "stream",
     "text": [
      "[[188.9971999]]\n",
      "model score: 0.6598825674509499\n",
      "r2 score: 0.5614322671133372\n"
     ]
    }
   ],
   "source": [
    "from sklearn.linear_model import LinearRegression\n",
    "from sklearn.model_selection import train_test_split\n",
    "from sklearn.metrics import mean_squared_error, mean_squared_log_error,mean_absolute_error, r2_score\n",
    "import statsmodels.api as sm\n",
    "# 전처리된 데이터들을 이용하여 regression model 생성\n",
    "csv_file_path = './preprocessed_data/seoul_data.csv'\n",
    "df = pd.read_csv(csv_file_path)\n",
    "\n",
    "# 종속 변수의 값은 따릉이의 자치구 별 대여소의 개수\n",
    "y_col = [\"대여소\"]\n",
    "# 단독 변수의 값은 서울시 자치구 별 유동 인구와 인구\n",
    "x_cols = [\"floating_pop_hour\", \"pop\"]\n",
    "\n",
    "X = df[x_cols].values\n",
    "y = df[y_col].values\n",
    "\n",
    "# sklearn LinearRegression 모델\n",
    "reg = LinearRegression().fit(X, y)\n",
    "\n",
    "#mse = mean_squared_error(Y_test, Y_pred)\n",
    "#print(mse)\n",
    "\n",
    "# 전처리한 천안시의 데이터 파일 불러오기\n",
    "new_csv_file_path = './cnt/천안시인구합계.csv'\n",
    "new_df = pd.read_csv(new_csv_file_path)\n",
    "\n",
    "# X1은 천안시 자치구 별 유동인구와 인구\n",
    "X1 = new_df[x_cols].values\n",
    "\n",
    "# 천안시 공공 자전거의 대여소 개수 예측\n",
    "new_Y_pred = reg.predict(X1)\n",
    "print(new_Y_pred)\n",
    "print(\"model score:\",reg.score(X,y))\n",
    "print(\"r2 score:\",r2_score(Y_test, Y_pred))"
   ]
  }
 ],
 "metadata": {
  "kernelspec": {
   "display_name": "Python 3 (ipykernel)",
   "language": "python",
   "name": "python3"
  },
  "language_info": {
   "codemirror_mode": {
    "name": "ipython",
    "version": 3
   },
   "file_extension": ".py",
   "mimetype": "text/x-python",
   "name": "python",
   "nbconvert_exporter": "python",
   "pygments_lexer": "ipython3",
   "version": "3.10.9"
  }
 },
 "nbformat": 4,
 "nbformat_minor": 5
}
