{
 "cells": [
  {
   "cell_type": "code",
   "execution_count": 2,
   "id": "aa9d9200",
   "metadata": {},
   "outputs": [],
   "source": [
    "import pandas as pd\n",
    "import numpy as np\n",
    "import glob\n",
    "import os"
   ]
  },
  {
   "cell_type": "code",
   "execution_count": 17,
   "id": "a30823f7",
   "metadata": {},
   "outputs": [
    {
     "name": "stdout",
     "output_type": "stream",
     "text": [
      "      pop  floating_pop_hour\n",
      "0  613219      220150.263754\n"
     ]
    }
   ],
   "source": [
    "df=pd.read_csv('./preprocessed_data/cheonan_data.csv')\n",
    "\n",
    "df['sum_pop'] = df['pop'] + df['floating_pop_hour']\n",
    "sum1 = sum(df['pop']) \n",
    "sum2 = sum(df['floating_pop_hour'])\n",
    "\n",
    "data = {'pop':[sum1],'floating_pop_hour':[sum2]}\n",
    "sum_pop_df = pd.DataFrame(data)\n",
    "print(sum_pop_df)\n",
    "\n",
    "csv_file_path='./cnt/천안시인구합계.csv'\n",
    "sum_pop_df.to_csv(csv_file_path, index=False)\n"
   ]
  },
  {
   "cell_type": "code",
   "execution_count": 18,
   "id": "181886a5",
   "metadata": {},
   "outputs": [
    {
     "name": "stdout",
     "output_type": "stream",
     "text": [
      "   region    pop  floating_pop_hour        sum_pop\n",
      "0     목천읍  21835        7428.996105   29263.996105\n",
      "1     풍세면   3906        3019.981348    6925.981348\n",
      "2     광덕면   4100        1379.881454    5479.881454\n",
      "3      북면   4236        1062.379023    5298.379023\n",
      "4     성남면   2960        1676.036191    4636.036191\n",
      "5     수신면   2186        1903.019358    4089.019358\n",
      "6     병천면   6079        1774.439732    7853.439732\n",
      "7      동면   1989         511.327521    2500.327521\n",
      "8     중앙동   5069        2357.570191    7426.570191\n",
      "9     문성동   7325        1986.992560    9311.992560\n",
      "10    봉명동  16600        6453.455850   23053.455850\n",
      "11    일봉동  21099        9071.973703   30170.973703\n",
      "12    신방동  40936        7664.473163   48600.473163\n",
      "13    청룡동  53279       16786.948341   70065.948341\n",
      "14    신안동  34546       16892.339085   51438.339085\n",
      "15    원성동  16930        7682.135762   24612.135762\n",
      "16    성환읍  22565        9195.994465   31760.994465\n",
      "17    성거읍  19508        9218.766755   28726.766755\n",
      "18    직산읍  18764        7437.289309   26201.289309\n",
      "19    입장면   8043        4278.243034   12321.243034\n",
      "20    백석동  35691       12630.545924   48321.545924\n",
      "21    성정동  41922       15981.867723   57903.867723\n",
      "22    쌍용동  63934       16153.163359   80087.163359\n",
      "23    불당동  61528       17286.914424   78814.914424\n",
      "24    부성동  98189       40315.529373  138504.529373\n"
     ]
    }
   ],
   "source": [
    "\n",
    "print(df)"
   ]
  },
  {
   "cell_type": "code",
   "execution_count": null,
   "id": "1eb0d0b9",
   "metadata": {},
   "outputs": [],
   "source": []
  },
  {
   "cell_type": "code",
   "execution_count": 4,
   "id": "1ab06f9e",
   "metadata": {},
   "outputs": [
    {
     "name": "stdout",
     "output_type": "stream",
     "text": [
      "model score: 0.5614322671133372\n",
      "r2 score : 0.5614322671133372\n",
      "[[181.24058475]]\n"
     ]
    }
   ],
   "source": [
    "from sklearn.linear_model import LinearRegression\n",
    "from sklearn.model_selection import train_test_split\n",
    "from sklearn.metrics import mean_squared_error, mean_squared_log_error,mean_absolute_error, r2_score\n",
    "import statsmodels.api as sm\n",
    "# 전처리된 데이터들을 이용하여 regression model 생성\n",
    "csv_file_path = './preprocessed_data/seoul_data.csv'\n",
    "df = pd.read_csv(csv_file_path)\n",
    "\n",
    "# 종속 변수의 값은 따릉이의 자치구 별 대여소의 개수\n",
    "y_col = [\"대여소\"]\n",
    "# 단독 변수의 값은 서울시 자치구 별 유동 인구와 인구\n",
    "x_cols = [\"floating_pop_hour\", \"pop\"]\n",
    "\n",
    "X = df[x_cols].values\n",
    "y = df[y_col].values\n",
    "\n",
    "# 회귀 모델 생성\n",
    "reg = LinearRegression().fit(X, y)\n",
    "\n",
    "X_train, X_test, Y_train, Y_test = train_test_split(X, y, test_size=0.2,shuffle=True, random_state=42)\n",
    "\n",
    "# sklearn LinearRegression 모델을 사용하여 학습 및 테스트\n",
    "reg = LinearRegression().fit(X_train, Y_train)\n",
    "\n",
    "#print(\"model score:\",reg.score(X,y))\n",
    "#print(\"model score:\",reg.score(X_train,Y_train))\n",
    "print(\"model score:\",reg.score(X_test, Y_test))\n",
    "\n",
    "#Y_test \n",
    "Y_pred= reg.predict(X_test)\n",
    "print('r2 score :', r2_score(Y_test, Y_pred))\n",
    "# 전처리한 천안시의 데이터 파일 불러오기\n",
    "new_csv_file_path = './cnt/천안시인구합계.csv'\n",
    "new_df = pd.read_csv(new_csv_file_path)\n",
    "\n",
    "# X1은 천안시 자치구 별 유동인구와 인구\n",
    "X1 = new_df[x_cols].values\n",
    "\n",
    "# 천안시 공공 자전거의 대여소 개수 예측\n",
    "pred_y = reg.predict(X1)\n",
    "print(pred_y)\n"
   ]
  },
  {
   "cell_type": "code",
   "execution_count": 46,
   "id": "4a91d693",
   "metadata": {},
   "outputs": [
    {
     "name": "stdout",
     "output_type": "stream",
     "text": [
      "r2 score : 0.5614322671133372\n",
      "[[181.24058475]]\n"
     ]
    }
   ],
   "source": [
    "from sklearn.linear_model import LinearRegression\n",
    "from sklearn.model_selection import train_test_split\n",
    "from sklearn.metrics import mean_squared_error, mean_squared_log_error,mean_absolute_error, r2_score\n",
    "import statsmodels.api as sm\n",
    "# 전처리된 데이터들을 이용하여 regression model 생성\n",
    "csv_file_path = './preprocessed_data/seoul_data.csv'\n",
    "df = pd.read_csv(csv_file_path)\n",
    "\n",
    "# 종속 변수의 값은 따릉이의 자치구 별 대여소의 개수\n",
    "y_col = [\"대여소\"]\n",
    "# 단독 변수의 값은 서울시 자치구 별 유동 인구와 인구\n",
    "x_cols = [\"floating_pop_hour\", \"pop\"]\n",
    "\n",
    "X = df[x_cols].values\n",
    "y = df[y_col].values\n",
    "\n",
    "X_train, X_test, Y_train, Y_test = train_test_split(X, y, test_size=0.2,shuffle=True, random_state=42)\n",
    "\n",
    "# sklearn LinearRegression 모델을 사용하여 학습 및 테스트\n",
    "reg = LinearRegression().fit(X_train, Y_train)\n",
    "\n",
    "#Y_test \n",
    "Y_pred= reg.predict(X_test)\n",
    "print('r2 score :', r2_score(Y_test, Y_pred))\n",
    "#mse = mean_squared_error(Y_test, Y_pred)\n",
    "#print(mse)\n",
    "\n",
    "# 전처리한 천안시의 데이터 파일 불러오기\n",
    "new_csv_file_path = './cnt/천안시인구합계.csv'\n",
    "new_df = pd.read_csv(new_csv_file_path)\n",
    "\n",
    "# X1은 천안시 자치구 별 유동인구와 인구\n",
    "X1 = new_df[x_cols].values\n",
    "\n",
    "# 천안시 공공 자전거의 대여소 개수 예측\n",
    "new_Y_pred = reg.predict(X1)\n",
    "print(new_Y_pred)\n"
   ]
  }
 ],
 "metadata": {
  "kernelspec": {
   "display_name": "Python 3 (ipykernel)",
   "language": "python",
   "name": "python3"
  },
  "language_info": {
   "codemirror_mode": {
    "name": "ipython",
    "version": 3
   },
   "file_extension": ".py",
   "mimetype": "text/x-python",
   "name": "python",
   "nbconvert_exporter": "python",
   "pygments_lexer": "ipython3",
   "version": "3.10.9"
  }
 },
 "nbformat": 4,
 "nbformat_minor": 5
}
